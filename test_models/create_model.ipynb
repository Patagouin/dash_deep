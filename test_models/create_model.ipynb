{
 "cells": [
  {
   "cell_type": "code",
   "execution_count": 1,
   "id": "682d812e",
   "metadata": {},
   "outputs": [],
   "source": [
    "import sys\n",
    "sys.path.append('..')\n",
    "\n",
    "# Standard libraries\n",
    "import math\n",
    "import random\n",
    "import datetime\n",
    "import time\n",
    "\n",
    "# Data manipulation and visualization\n",
    "import numpy as np\n",
    "import pandas as pd\n",
    "import matplotlib.pyplot as plt\n",
    "import plotly.graph_objects as go\n",
    "\n",
    "# Scikit-learn\n",
    "from sklearn.preprocessing import MinMaxScaler, StandardScaler\n",
    "from sklearn.metrics import mean_squared_error\n",
    "from sklearn.model_selection import cross_val_score, train_test_split\n",
    "from sklearn.linear_model import LinearRegression\n",
    "from sklearn.datasets import make_regression\n",
    "\n",
    "# TensorFlow and Keras\n",
    "import tensorflow as tf\n",
    "import tensorflow.keras as keras\n",
    "from tensorflow.keras.models import Sequential\n",
    "from tensorflow.keras.layers import Dense, LSTM\n",
    "from tensorflow.keras.callbacks import History, EarlyStopping\n",
    "\n",
    "# Keras Tuner\n",
    "from keras_tuner.tuners import RandomSearch\n",
    "from keras_tuner import HyperParameters\n",
    "import keras_tuner as kt\n",
    "\n",
    "# Bayesian Optimization\n",
    "from bayes_opt import BayesianOptimization\n",
    "\n",
    "# Custom modules\n",
    "import Models.SqlCom as sq\n",
    "import Models.Shares as sm\n",
    "import Models.utils as ut"
   ]
  },
  {
   "cell_type": "markdown",
   "id": "1b463686",
   "metadata": {},
   "source": [
    "# Les fonctions"
   ]
  },
  {
   "cell_type": "code",
   "execution_count": 5,
   "id": "d4c1cdc3",
   "metadata": {},
   "outputs": [],
   "source": [
    "# dataX = look_back_x cotations séparé par stride\n",
    "# dataY = nb_y points réparti équitableme\n",
    "def create_X_Y(dataset, data_info):\n",
    "    look_back_x = data_info['look_back_x']\n",
    "    nb_quots_by_day = data_info['nb_quots_by_day']\n",
    "    stride_x = data_info['stride_x']\n",
    "    nb_y = data_info['nb_y']\n",
    "    return_type = data_info.get('return_type', 'value')  # default to 'value' if not provided\n",
    "    data_X, data_Y = [], []\n",
    "    # Pour chaque point de départ de journée possible\n",
    "    for i in range(0, len(dataset), nb_quots_by_day):\n",
    "        # EX : journée 1 = data_X = data[0,2,4,...120]\n",
    "        a = dataset.iloc[i:i + look_back_x*stride_x:stride_x, :]  # premières minutes de la journée\n",
    "        if return_type == 'yield':\n",
    "            a /= a.iloc[-1, :]  # divide by the last train value of the day dans le cas pourcentage\n",
    "        data_X.append(a)\n",
    "        y_values = []\n",
    "        # ex: 540 quots - 60 * 2 // 2+1 = 420 / 3 = 140\n",
    "        # (nb_quots_by_day - look_back_x*stride_x) = (on retire la quantité de data du début qui a servi à l'entrainement)\n",
    "        # (nb_y+1) nb de Y par jour, +1 car ce que l'on veut c'est nb_y + 1 interval pour nb_y point qui ne soit ni au début ni à la fin\n",
    "        stride_y = (nb_quots_by_day - look_back_x*stride_x) // (nb_y+1) # écart des Y pour une bonne répartition sur la journée\n",
    "        # [140, 280]\n",
    "        offsets = [stride_y*j for j in range(1,nb_y+1)] #  POsition des Y\n",
    "        for offset in offsets:\n",
    "            # [60*2 + 140, 60*2 + 280] = [260, 400]\n",
    "            y_value = dataset.iloc[i + look_back_x*stride_x + offset, 0]  # On ne prend que les cotations car ca ne sert à rien de prédire un volume on veut juste une valeur\n",
    "            if return_type == 'yield':\n",
    "                y_value /= dataset.iloc[i+look_back_x*stride_x, 0]  # divide by the last train value of the day dans le cas pourcentage\n",
    "            y_values.append(y_value)\n",
    "        data_Y.append(y_values)\n",
    "    return np.array(data_X), np.array(data_Y)\n",
    "\n",
    "# Fonction pour créer les ensembles d'entraînement et de test\n",
    "# Il faut que le dataset ait été cleaner (et surtout ne pas avoir pris les cotations de la derniere journée incomplete)\n",
    "def split_dataset_train_test(dataset, data_info):\n",
    "    shareObj = data_info['shareObj']\n",
    "    nb_days_to_take_dataset = data_info['nb_days_to_take_dataset']\n",
    "    percent_train_test = data_info['percent_train_test']\n",
    "    \n",
    "    # Déterminer le nombre de minutes jusqu'à l'ouverture et la fermeture du marché\n",
    "    nb_minute_until_open = shareObj.openRichMarketTime.hour * 60 + shareObj.openRichMarketTime.minute\n",
    "    nb_minute_until_close = shareObj.closeRichMarketTime.hour * 60 + shareObj.closeRichMarketTime.minute\n",
    "    # Calculer le nombre de cotations par jour\n",
    "    nb_quots_by_day = (nb_minute_until_close - nb_minute_until_open) + 1\n",
    "    if (data_info['look_back_x']*data_info['stride_x'] < nb_quots_by_day):\n",
    "        data_info['nb_quots_by_day'] = nb_quots_by_day\n",
    "    else:\n",
    "        print(\"look_back_x*stride_x > nb_quots_by_day\")\n",
    "        exit(1)\n",
    "\n",
    "    nb_days_total = len(dataset) // nb_quots_by_day\n",
    "    data_info['nb_days_total'] = nb_days_total\n",
    "    \n",
    "    if (nb_days_to_take_dataset == 'max' or nb_days_to_take_dataset > nb_days_total):\n",
    "        # Calculer le nombre total de jours de cotations dans le dataset\n",
    "        nb_days_to_take = nb_days_total\n",
    "    else:\n",
    "        nb_days_to_take = nb_days_to_take_dataset\n",
    "        \n",
    "    # Calculer le nombre de jours de cotations à sauter pour créer un ensemble de données d'entraînement équilibré\n",
    "    # Car on ne prend que les jours de cotations les plus récents\n",
    "    nb_days_skipped =  (nb_days_total - nb_days_to_take)\n",
    "\n",
    "    nb_day_train = math.floor(nb_days_to_take * (percent_train_test/100))\n",
    "    nb_day_test = nb_days_to_take - nb_day_train\n",
    "\n",
    "    nb_quots_skipped = nb_days_skipped * nb_quots_by_day\n",
    "\n",
    "    nb_quots_train = nb_day_train * nb_quots_by_day\n",
    "    nb_quots_test = nb_day_test * nb_quots_by_day # Non utile car les quots de tests sont les quots restantes\n",
    "    # Créer les ensembles d'entraînement et de test en fonction des tailles calculées\n",
    "    train = dataset.iloc[nb_quots_skipped:nb_quots_skipped + nb_quots_train, :]\n",
    "    test = dataset.iloc[nb_quots_skipped + nb_quots_train:len(dataset), :]\n",
    "    return train, test\n",
    "\n",
    "# Fonction pour créer les ensembles d'entraînement et de test avec un look_back spécifique\n",
    "def create_train_test(dataset, data_info):\n",
    "    train, test = split_dataset_train_test(dataset, data_info)\n",
    "    trainX, trainY = create_X_Y(train, data_info)\n",
    "    testX, testY = create_X_Y(test, data_info)\n",
    "    return trainX, trainY, testX, testY\n",
    "\n",
    "# Fonction pour déterminer la plage de dates et préparer les données de cotation\n",
    "def get_and_clean_data(shM, shareObj, columns):\n",
    "    # Si la cotation ne se termine pas en fin de journée alors on exclue cette journée pour avoir des journées complètes\n",
    "    if shareObj.lastRecord.time() < shareObj.closeRichMarketTime:\n",
    "        end_date = shareObj.lastRecord - datetime.timedelta(days=1)\n",
    "        end_date = end_date.replace(hour=shareObj.closeRichMarketTime.hour, \n",
    "                                    minute=shareObj.closeRichMarketTime.minute, \n",
    "                                    second=shareObj.closeRichMarketTime.second)\n",
    "    else:\n",
    "        end_date = shareObj.lastRecord\n",
    "\n",
    "    data_quots = shM.get_cotations_data_df(shareObj, shareObj.firstRecord, end_date)\n",
    "    # On interpole les valeurs null\n",
    "    df = ut.prepareData(shareObj, data_quots, columns)\n",
    "    return df\n",
    "\n",
    "def directional_accuracy(y_true, y_pred):\n",
    "    # Assuming last_known_value is the first value in y_true\n",
    "    last_known_value = y_true[:, 0]\n",
    "    # Repeat last_known_value to match the shape of y_true\n",
    "    last_known_value = tf.expand_dims(last_known_value, axis=-1)\n",
    "    last_known_value = tf.tile(last_known_value, [1, y_true.shape[1]])\n",
    "    true_direction = tf.math.sign(y_true - last_known_value)\n",
    "    pred_direction = tf.math.sign(y_pred - last_known_value)\n",
    "\n",
    "    correct_predictions = tf.cast(tf.equal(true_direction, pred_direction), dtype=tf.float32)\n",
    "    return tf.reduce_mean(correct_predictions)\n",
    "    # Custom run_trial method to choose between 'val_loss' and 'directional_accuracy'\n",
    "    \n",
    "class CustomHyperband(kt.Hyperband):\n",
    "    def run_trial(self, trial, *args, **kwargs):\n",
    "        # Choisir aléatoirement entre 'val_loss' et 'directional_accuracy'\n",
    "        objective = random.choice(['val_loss', 'directional_accuracy'])\n",
    "        self.oracle.objective = kt.Objective(objective, direction='min' if objective == 'val_loss' else 'max')\n",
    "        results = super().run_trial(trial, *args, **kwargs)\n",
    "        return results\n",
    "\n",
    "class CustomRandomSearch(RandomSearch):\n",
    "    def run_trial(self, trial, *args, **kwargs):\n",
    "        # Choisir aléatoirement entre 'val_loss' et 'directional_accuracy'\n",
    "        objective = random.choice(['val_loss', 'directional_accuracy'])\n",
    "        self.oracle.objective = objective\n",
    "        super().run_trial(trial, *args, **kwargs)\n",
    "\n",
    "# la fermeture permet d'obtenir une fonction avec la bonne signature\n",
    "def build_model_closure(data_info, hps):\n",
    "\n",
    "    def build_model(hp):\n",
    "        model = keras.Sequential()\n",
    "        num_layers = hp.Choice('num_layers', values=hps['layers'])\n",
    "    \n",
    "        for i in range(num_layers):\n",
    "            units = hp.Choice(f'units_{i}', values=hps['nb_units'])\n",
    "            if i == 0:\n",
    "                model.add(keras.layers.LSTM(units, input_shape=(data_info['look_back_x'], len(data_info['features'])), return_sequences=(num_layers > 1)))\n",
    "            else:\n",
    "                model.add(keras.layers.LSTM(units, return_sequences=(i != num_layers - 1)))\n",
    "\n",
    "        model.add(keras.layers.Dense(data_info['nb_y']))\n",
    "\n",
    "        # Vous pouvez également optimiser le taux d'apprentissage\n",
    "        optimizer = keras.optimizers.Adam(hp.Choice('learning_rate', values=hps['learning_rate']))\n",
    "        return_type = data_info.get('return_type', 'yield') # par défaut yield\n",
    "        if return_type == 'yield':\n",
    "            model.compile(loss=hps['loss'], optimizer=optimizer, metrics=[directional_accuracy])\n",
    "        else:\n",
    "            model.compile(loss=hps['loss'], optimizer=optimizer)\n",
    "        return model\n",
    "    return build_model\n",
    "\n",
    "\n",
    "def build_model_closure(data_info, hps):\n",
    "    \"\"\"\n",
    "    Crée une fermeture pour construire un modèle Keras avec des hyperparamètres.\n",
    "\n",
    "    @param data_info: Dictionnaire contenant des informations sur les données.\n",
    "                      - 'look_back_x': Nombre de pas de temps à regarder en arrière.\n",
    "                      - 'features': Liste des noms de caractéristiques.\n",
    "                      - 'nb_y': Nombre de caractéristiques de sortie.\n",
    "                      - 'return_type': Type de retour ('yield' ou 'value').\n",
    "    @param hps: Dictionnaire contenant les choix d'hyperparamètres.\n",
    "                - 'layers': Liste du nombre possible de couches.\n",
    "                - 'nb_units': Liste du nombre possible d'unités par couche.\n",
    "                - 'learning_rate': Liste des taux d'apprentissage possibles.\n",
    "                - 'loss': Fonction de perte à utiliser.\n",
    "\n",
    "    @return: Une fonction qui construit un modèle Keras avec les hyperparamètres donnés.\n",
    "    \"\"\"\n",
    "\n",
    "    def build_model(hp):\n",
    "        \"\"\"\n",
    "        Construit un modèle Keras basé sur les hyperparamètres donnés.\n",
    "\n",
    "        @param hp: Objet d'hyperparamètres de Keras Tuner.\n",
    "\n",
    "        @return: Modèle Keras compilé.\n",
    "        \"\"\"\n",
    "        # Définir le tenseur d'entrée\n",
    "        input_tensor = keras.layers.Input(shape=(data_info['look_back_x'], len(data_info['features'])))\n",
    "        \n",
    "        # Extraction de last_known_value via une couche Lambda\n",
    "        aux_output = keras.layers.Lambda(lambda x: x[:,-1,0], name='aux_output')(input_tensor)\n",
    "        \n",
    "        # Initialiser x avec le tenseur d'entrée\n",
    "        x = input_tensor\n",
    "        \n",
    "        # Ajouter des couches LSTM\n",
    "        num_layers = hp.Choice('num_layers', values=hps['layers'])\n",
    "        for i in range(num_layers):\n",
    "            units = hp.Choice(f'units_{i}', values=hps['nb_units'])\n",
    "            x = keras.layers.LSTM(units, return_sequences=(i != num_layers - 1))(x)\n",
    "        \n",
    "        # Ajouter la couche de sortie principale\n",
    "        main_output = keras.layers.Dense(data_info['nb_y'], name='main_output')(x)\n",
    "        \n",
    "        # Créer le modèle en spécifiant les entrées et les sorties\n",
    "        model = keras.models.Model(inputs=input_tensor, outputs=[main_output, aux_output])\n",
    "        \n",
    "        # Compiler le modèle\n",
    "        optimizer = keras.optimizers.Adam(hp.Choice('learning_rate', values=hps['learning_rate']))\n",
    "        return_type = data_info.get('return_type', 'value')\n",
    "        \n",
    "        if return_type == 'yield':\n",
    "            print ('yield')\n",
    "            model.compile(loss={'main_output': hps['loss'], 'aux_output': 'mse'}, optimizer=optimizer, metrics={'main_output': directional_accuracy})\n",
    "\t\t\t\t\t\t\t\t\t\t\t   \n",
    "\t\t\t\t\t\t\t\t\t\t\t\t\t\t\t\t\t\t\n",
    "        else:\n",
    "            model.compile(loss={'main_output': hps['loss'], 'aux_output': 'mse'}, optimizer=optimizer)\n",
    "        \n",
    "        return model\n",
    "\n",
    "    return build_model\n",
    "\n",
    "def tuner_results_to_dataframe(tuner):\n",
    "    # Extraction des métriques et des hyperparamètres des essais\n",
    "    results = []\n",
    "    \n",
    "    # Parcourir tous les essais\n",
    "    for trial in tuner.oracle.trials.values():\n",
    "        trial_id = trial.trial_id\n",
    "        \n",
    "        # Récupération des métriques pour l'essai actuel\n",
    "        all_metrics = list(trial.metrics.metrics.keys())\n",
    "        print(f\"Available metrics for trial {trial_id}: {all_metrics}\")  # Pour déboguer\n",
    "\n",
    "        # Récupération de directional_accuracy\n",
    "        if 'directional_accuracy' in all_metrics:\n",
    "            metrics_history = trial.metrics.get_history('directional_accuracy')\n",
    "            val_dir_acc_best_value = max([entry.value for entry in metrics_history])\n",
    "        else:\n",
    "            val_dir_acc_best_value = None\n",
    "            print(f\"directional_accuracy not available for trial {trial_id}\")\n",
    "            \n",
    "        # Récupération de val_loss\n",
    "        if 'val_loss' in all_metrics:\n",
    "            val_loss_best_value = trial.metrics.get_best_value('val_loss')\n",
    "        else:\n",
    "            val_loss_best_value = None\n",
    "            print(f\"val_loss not available for trial {trial_id}\")\n",
    "        \n",
    "        # Ajout des métriques et des hyperparamètres à la liste des résultats\n",
    "        results.append({\n",
    "            'trial_id': trial_id,\n",
    "            'directional_accuracy': val_dir_acc_best_value,\n",
    "            'val_loss': val_loss_best_value,\n",
    "            'hyperparameters': trial.hyperparameters.values\n",
    "        })\n",
    "    \n",
    "    return pd.DataFrame(results)"
   ]
  },
  {
   "cell_type": "markdown",
   "id": "58439bf4",
   "metadata": {},
   "source": [
    "# Settings"
   ]
  },
  {
   "cell_type": "code",
   "execution_count": 3,
   "id": "827e6210",
   "metadata": {
    "scrolled": true
   },
   "outputs": [],
   "source": [
    "data_info = {\n",
    "    'shareObj': None,\n",
    "    'nb_quots_by_day': None,\n",
    "    'symbol': \"ACA.PA\",\n",
    "    'return_type': 'yield', # or 'value'\n",
    "    'look_back_x': 60, # nombre quots (et pas nombre minute) si stride_x = 2 alors look_back_x*stride_x heure de quots \n",
    "    'stride_x': 2,\n",
    "    'nb_y': 1,\n",
    "    'percent_train_test': 60,\n",
    "    'nb_days_to_take_dataset': 400, # last days cotation known\n",
    "    'features': ['openPrice'], # openPrice, volume, dividend, \n",
    "    # Info supp non nécessaire pour calcul\n",
    "    'nb_days_total': None\n",
    "}\n",
    "\n",
    "hps = {\n",
    "    'nb_units': [32, 64, 128, 256, 512],\n",
    "    'layers': [1,2,3],  # max layer #avant #[min,...,max]\n",
    "    'epochs': 200,\n",
    "    'epochs_tuner':50,\n",
    "    'batch_size': 16,\n",
    "    'learning_rate': [1e-2, 5e-3, 1e-3],\n",
    "    'loss':'mean_squared_error'\n",
    "}"
   ]
  },
  {
   "cell_type": "markdown",
   "id": "50a3a940",
   "metadata": {},
   "source": [
    "# Preparation données\n",
    "#### Ici on lit en bdd les tickers disponible, sélectionne celui qui nous intéresse, nettoie les données et récupère la métrique que l'on veut (potentiel par encore disponible)\n",
    "#### Ensuite on split les données en un dataset de train et de test avec les valeurs Y correspondantes"
   ]
  },
  {
   "cell_type": "code",
   "execution_count": null,
   "id": "c278110b",
   "metadata": {},
   "outputs": [],
   "source": [
    "shM = sm.Shares(readOnlyThosetoUpdate=True)\n",
    "data_info['shareObj'] = shM.dfShares[shM.dfShares['symbol'] == data_info['symbol']].iloc[0]  # Symbol unique\n",
    "df = get_and_clean_data(shM, data_info['shareObj'], columns=data_info['features'])\n",
    "print(df.index)\n",
    "trainX, trainY, testX, testY = create_train_test(df, data_info)\n",
    "print(trainX.shape)\n",
    "print(trainY.shape)\n",
    "print(testX.shape)\n",
    "print(testY.shape)\n",
    "\n",
    "# Initialisation des scalers pour chaque feature\n",
    "scalers = [MinMaxScaler(feature_range=(0, 1)) for _ in range(len(data_info['features']))]\n",
    "\n",
    "# Create a copy of the original data to scale\n",
    "trainXS = np.copy(trainX)\n",
    "testXS = np.copy(testX)\n",
    "for i, scaler in enumerate(scalers):\n",
    "    # Reshape data to 2D for scaling\n",
    "    feature_data_train = trainXS[:, :, i].reshape(-1, 1)\n",
    "    feature_data_test = testXS[:, :, i].reshape(-1, 1)\n",
    "    \n",
    "    scaler.fit(feature_data_train)\n",
    "    # Transform\n",
    "    trainXS[:, :, i] = scaler.transform(feature_data_train).reshape(trainXS.shape[0], trainXS.shape[1])\n",
    "    # Transform test data using the same scaler\n",
    "    testXS[:, :, i] = scaler.transform(feature_data_test).reshape(testXS.shape[0], testXS.shape[1])\n",
    "\n",
    "# Scale Y data using the scaler of the first feature 'openPrice'\n",
    "# Find the index of 'openPrice' in 'features'\n",
    "nb_y = data_info['nb_y']\n",
    "open_price_index = data_info['features'].index('openPrice')\n",
    "trainYS_list = [scalers[open_price_index].transform(trainY[:,i].reshape(-1, 1)) for i in range(nb_y)]\n",
    "testYS_list = [scalers[open_price_index].transform(testY[:,i].reshape(-1, 1)) for i in range(nb_y)]\n",
    "\n",
    "# Concaténer les listes transformées pour obtenir les matrices finales\n",
    "trainYS = np.hstack(trainYS_list)\n",
    "testYS = np.hstack(testYS_list)"
   ]
  },
  {
   "cell_type": "code",
   "execution_count": null,
   "id": "c19bde50",
   "metadata": {},
   "outputs": [],
   "source": [
    "nb_quots_by_day = data_info['nb_quots_by_day']\n",
    "look_back_x = data_info['look_back_x']\n",
    "nb_y = data_info['nb_y']\n",
    "nb_days = data_info['nb_days_to_take_dataset']\n",
    "stride_x = data_info['stride_x']\n",
    "\n",
    "nb_cotations = nb_quots_by_day * nb_days\n",
    "print(\"Les colonnes du dataset sont :\")\n",
    "print(df.columns)\n",
    "print(df.index)\n",
    "\n",
    "data_to_plot = df['openPrice'].values[-nb_cotations:]\n",
    "\n",
    "if data_info['return_type'] == 'yield':\n",
    "    for i in range(nb_days):\n",
    "        start_idx = i * nb_quots_by_day\n",
    "        last_quot_x_section = data_to_plot[start_idx + look_back_x*stride_x]\n",
    "        data_to_plot[start_idx:start_idx+nb_quots_by_day] /= last_quot_x_section\n",
    "\n",
    "fig = go.Figure()\n",
    "fig.add_trace(go.Scatter(y=data_to_plot, mode='lines', name='Vraies cotations', line=dict(color='grey')))\n",
    "\n",
    "# 2. Ajouter les séquences de trainXS pour chaque jour.\n",
    "for i in range(trainXS.shape[0]):\n",
    "    start_idx = i * nb_quots_by_day\n",
    "    end_idx = start_idx + look_back_x*stride_x\n",
    "    if data_info['return_type'] == 'yield':\n",
    "        data_segment = scalers[0].inverse_transform(trainXS[i, :, 0].reshape(-1, 1)).flatten()\n",
    "    else:\n",
    "        data_segment = scalers[0].inverse_transform(trainXS[i, :, 0].reshape(-1, 1)).flatten()\n",
    "    fig.add_trace(go.Scatter(x=np.arange(start_idx, end_idx, stride_x), y=data_segment, mode='lines', name='trainXS' if i == 0 else \"\", showlegend=i == 0, line=dict(color='blue')))\n",
    "\n",
    "# 3. Marquer les points de trainYS\n",
    "for i in range(trainYS.shape[0]):\n",
    "    for j in range(nb_y):\n",
    "        stride_y = ((nb_quots_by_day- look_back_x*stride_x) // (nb_y+1))\n",
    "        idx = i * nb_quots_by_day + look_back_x*stride_x+ (j+1) * stride_y\n",
    "        y_val = scalers[0].inverse_transform(trainYS[i, j].reshape(-1, 1)).flatten()[0]\n",
    "        fig.add_trace(go.Scatter(x=[idx], y=[y_val], mode='markers', name='trainYS' if i == 0 else \"\", showlegend=i == 0, marker=dict(color='red')))\n",
    "\n",
    "# 4. Ajouter les séquences de testXS pour chaque jour.\n",
    "for i in range(testXS.shape[0]):\n",
    "    end_train = trainXS.shape[0]*nb_quots_by_day\n",
    "    start_idx = end_train + i * nb_quots_by_day\n",
    "    end_idx = start_idx + look_back_x*stride_x\n",
    "    if data_info['return_type'] == 'yield':\n",
    "        data_segment = scalers[0].inverse_transform(testXS[i, :, 0].reshape(-1, 1)).flatten()\n",
    "    else:\n",
    "        data_segment = scalers[0].inverse_transform(testXS[i, :, 0].reshape(-1, 1)).flatten()\n",
    "    fig.add_trace(go.Scatter(x=np.arange(start_idx, end_idx, stride_x), y=data_segment, mode='lines', name='testXS' if i == 0 else \"\", showlegend=i == 0, line=dict(color='violet')))\n",
    "\n",
    "# 5. Marquer les points de testYS\n",
    "for i in range(testYS.shape[0]):\n",
    "    for j in range(nb_y):\n",
    "        end_train = trainXS.shape[0]*nb_quots_by_day\n",
    "        stride_y = ((nb_quots_by_day- look_back_x*stride_x) // (nb_y+1))\n",
    "        idx = end_train + i * nb_quots_by_day + look_back_x*stride_x+ (j+1) * stride_y\n",
    "        y_val = scalers[0].inverse_transform(testYS[i, j].reshape(-1, 1)).flatten()[0]\n",
    "        fig.add_trace(go.Scatter(x=[idx], y=[y_val], mode='markers', name='testYS' if i == 0 else \"\", showlegend=i == 0, marker=dict(color='#FF6600')))\n",
    "\n",
    "# Réinitialiser l'index pour utiliser uniquement la date comme index principal\n",
    "df.index = df.index.get_level_values('time')\n",
    "\n",
    "# Assurez-vous que l'index du DataFrame est un DatetimeIndex\n",
    "if not isinstance(df.index, pd.DatetimeIndex):\n",
    "    df.index = pd.to_datetime(df.index)\n",
    "\n",
    "# Sélection des dates pour les positions des ticks\n",
    "# Supposons que chaque jour commence à un intervalle régulier dans le DataFrame\n",
    "tick_positions = [i * nb_quots_by_day for i in range(nb_days)]\n",
    "tick_labels = df.index[tick_positions].strftime('%Y-%m-%d').tolist()\n",
    "\n",
    "fig.update_xaxes(tickvals=tick_positions, ticktext=tick_labels)\n",
    "\n",
    "# Ajouter des barres verticales pour chaque jour\n",
    "for pos in tick_positions:\n",
    "    fig.add_vline(x=pos, line=dict(color='gray', dash='dash', width=1))\n",
    "\n",
    "fig.update_layout(\n",
    "    title=f'Cotations des {nb_days} derniers jours',\n",
    "    xaxis_title='Date',\n",
    "    yaxis_title='Prix',\n",
    "    legend_title='Légende',\n",
    "    xaxis=dict(tickangle=45)\n",
    ")\n",
    "\n",
    "fig.show()"
   ]
  },
  {
   "cell_type": "code",
   "execution_count": null,
   "id": "036fb521",
   "metadata": {
    "lines_to_next_cell": 2
   },
   "outputs": [],
   "source": [
    "print(\"Best step:\", first_trial.metrics.get_best_step('val_directional_accuracy'))\n",
    "print(\"Best value:\", first_trial.metrics.get_best_value('val_directional_accuracy'))\n",
    "print(\"Direction:\", first_trial.metrics.get_direction('val_directional_accuracy'))\n",
    "print(\"History:\", first_trial.metrics.get_history('val_directional_accuracy'))\n",
    "print(\"Last value:\", first_trial.metrics.get_last_value('val_directional_accuracy'))\n",
    "print(\"Statistics:\", first_trial.metrics.get_statistics('val_directional_accuracy'))\n",
    "print(\"Metrics:\", first_trial.metrics.metrics)"
   ]
  },
  {
   "cell_type": "code",
   "execution_count": null,
   "id": "526285d2",
   "metadata": {},
   "outputs": [
    {
     "name": "stdout",
     "output_type": "stream",
     "text": [
      "Available metrics for trial 0: []\n",
      "directional_accuracy not available for trial 0\n",
      "val_loss not available for trial 0\n",
      "Available metrics for trial 1: ['loss', 'main_output_loss', 'aux_output_loss', 'main_output_directional_accuracy', 'val_loss', 'val_main_output_loss', 'val_aux_output_loss', 'val_main_output_directional_accuracy']\n",
      "directional_accuracy not available for trial 1\n",
      "Available metrics for trial 2: ['loss', 'main_output_loss', 'aux_output_loss', 'main_output_directional_accuracy', 'val_loss', 'val_main_output_loss', 'val_aux_output_loss', 'val_main_output_directional_accuracy']\n",
      "directional_accuracy not available for trial 2\n",
      "Available metrics for trial 3: ['loss', 'main_output_loss', 'aux_output_loss', 'main_output_directional_accuracy', 'val_loss', 'val_main_output_loss', 'val_aux_output_loss', 'val_main_output_directional_accuracy']\n",
      "directional_accuracy not available for trial 3\n",
      "Available metrics for trial 4: []\n",
      "directional_accuracy not available for trial 4\n",
      "val_loss not available for trial 4\n",
      "df_results\n",
      "  trial_id directional_accuracy  val_loss  \\\n",
      "0        0                 None       NaN   \n",
      "1        1                 None  0.016199   \n",
      "2        2                 None  0.015201   \n",
      "3        3                 None  0.016616   \n",
      "4        4                 None       NaN   \n",
      "\n",
      "                                     hyperparameters  \n",
      "0  {'num_layers': 3, 'units_0': 32, 'learning_rat...  \n",
      "1  {'num_layers': 1, 'units_0': 128, 'learning_ra...  \n",
      "2  {'num_layers': 2, 'units_0': 512, 'learning_ra...  \n",
      "3  {'num_layers': 1, 'units_0': 64, 'learning_rat...  \n",
      "4  {'num_layers': 1, 'units_0': 64, 'learning_rat...  \n"
     ]
    },
    {
     "data": {
      "image/png": "[encoded data removed]",
      "text/plain": [
       "<Figure size 1400x600 with 1 Axes>"
      ]
     },
     "metadata": {},
     "output_type": "display_data"
    }
   ],
   "source": [
    "df_results = tuner_results_to_dataframe(tuner)\n",
    "print(\"df_results\")\n",
    "print(df_results)\n",
    "\n",
    "filtered_df = df_results.dropna(subset=['directional_accuracy'])\n",
    "\n",
    "# Tracer les métriques\n",
    "plt.figure(figsize=(14, 6))\n",
    "\n",
    "# Tracer la Directional Accuracy si elle est disponible dans le dataframe filtré\n",
    "if not filtered_df.empty and 'directional_accuracy' in filtered_df.columns:\n",
    "    plt.subplot(1, 2, 1)\n",
    "    plt.bar(filtered_df['trial_id'], filtered_df['directional_accuracy'], color='blue')\n",
    "    plt.title(\"Directional Accuracy by Trial\")\n",
    "    plt.xlabel(\"Trial ID\")\n",
    "    plt.ylabel(\"Directional Accuracy\")\n",
    "\n",
    "# Tracer le Training Loss si disponible\n",
    "if 'loss' in df_results.columns:\n",
    "    plt.subplot(1, 3, 2)  # Ajoutez ce nouveau subplot en deuxième position\n",
    "    plt.bar(df_results['trial_id'], df_results['loss'], color='green')\n",
    "    plt.title(\"Training Loss by Trial\")\n",
    "    plt.xlabel(\"Trial ID\")\n",
    "    plt.ylabel(\"Training Loss\")\n",
    "\n",
    "# Tracer la Validation Loss si elle est disponible dans le dataframe\n",
    "if 'val_loss' in df_results.columns:\n",
    "    plt.subplot(1, 3, 3)  # Changez 1, 2 en 1, 3 pour ce subplot\n",
    "    plt.bar(df_results['trial_id'], df_results['val_loss'], color='red')\n",
    "    plt.title(\"Validation Loss by Trial\")\n",
    "    plt.xlabel(\"Trial ID\")\n",
    "    plt.ylabel(\"Validation Loss\")\n",
    "\n",
    "plt.tight_layout()\n",
    "plt.show()"
   ]
  },
  {
   "cell_type": "code",
   "execution_count": null,
   "id": "708c31a0",
   "metadata": {},
   "outputs": [
    {
     "name": "stdout",
     "output_type": "stream",
     "text": [
      "Available metrics for trial 0: []\n",
      "directional_accuracy not available for trial 0\n",
      "val_loss not available for trial 0\n",
      "Available metrics for trial 1: ['loss', 'main_output_loss', 'aux_output_loss', 'main_output_directional_accuracy', 'val_loss', 'val_main_output_loss', 'val_aux_output_loss', 'val_main_output_directional_accuracy']\n",
      "directional_accuracy not available for trial 1\n",
      "Available metrics for trial 2: ['loss', 'main_output_loss', 'aux_output_loss', 'main_output_directional_accuracy', 'val_loss', 'val_main_output_loss', 'val_aux_output_loss', 'val_main_output_directional_accuracy']\n",
      "directional_accuracy not available for trial 2\n",
      "Available metrics for trial 3: ['loss', 'main_output_loss', 'aux_output_loss', 'main_output_directional_accuracy', 'val_loss', 'val_main_output_loss', 'val_aux_output_loss', 'val_main_output_directional_accuracy']\n",
      "directional_accuracy not available for trial 3\n",
      "Available metrics for trial 4: []\n",
      "directional_accuracy not available for trial 4\n",
      "val_loss not available for trial 4\n",
      "df_results\n",
      "  trial_id directional_accuracy  val_loss  \\\n",
      "0        0                 None       NaN   \n",
      "1        1                 None  0.016199   \n",
      "2        2                 None  0.015201   \n",
      "3        3                 None  0.016616   \n",
      "4        4                 None       NaN   \n",
      "\n",
      "                                     hyperparameters  \n",
      "0  {'num_layers': 3, 'units_0': 32, 'learning_rat...  \n",
      "1  {'num_layers': 1, 'units_0': 128, 'learning_ra...  \n",
      "2  {'num_layers': 2, 'units_0': 512, 'learning_ra...  \n",
      "3  {'num_layers': 1, 'units_0': 64, 'learning_rat...  \n",
      "4  {'num_layers': 1, 'units_0': 64, 'learning_rat...  \n"
     ]
    },
    {
     "data": {
      "image/png": "[encoded data removed]",
      "text/plain": [
       "<Figure size 1400x600 with 1 Axes>"
      ]
     },
     "metadata": {},
     "output_type": "display_data"
    }
   ],
   "source": [
    "df_results = tuner_results_to_dataframe(tuner)\n",
    "print(\"df_results\")\n",
    "print(df_results)\n",
    "\n",
    "filtered_df = df_results.dropna(subset=['directional_accuracy'])\n",
    "\n",
    "# Tracer les métriques\n",
    "plt.figure(figsize=(14, 6))\n",
    "\n",
    "# Tracer la Directional Accuracy si elle est disponible dans le dataframe filtré\n",
    "if not filtered_df.empty and 'directional_accuracy' in filtered_df.columns:\n",
    "    plt.subplot(1, 2, 1)\n",
    "    plt.bar(filtered_df['trial_id'], filtered_df['directional_accuracy'], color='blue')\n",
    "    plt.title(\"Directional Accuracy by Trial\")\n",
    "    plt.xlabel(\"Trial ID\")\n",
    "    plt.ylabel(\"Directional Accuracy\")\n",
    "\n",
    "# Tracer le Training Loss si disponible\n",
    "if 'loss' in df_results.columns:\n",
    "    plt.subplot(1, 3, 2)  # Ajoutez ce nouveau subplot en deuxième position\n",
    "    plt.bar(df_results['trial_id'], df_results['loss'], color='green')\n",
    "    plt.title(\"Training Loss by Trial\")\n",
    "    plt.xlabel(\"Trial ID\")\n",
    "    plt.ylabel(\"Training Loss\")\n",
    "\n",
    "# Tracer la Validation Loss si elle est disponible dans le dataframe\n",
    "if 'val_loss' in df_results.columns:\n",
    "    plt.subplot(1, 3, 3)  # Changez 1, 2 en 1, 3 pour ce subplot\n",
    "    plt.bar(df_results['trial_id'], df_results['val_loss'], color='red')\n",
    "    plt.title(\"Validation Loss by Trial\")\n",
    "    plt.xlabel(\"Trial ID\")\n",
    "    plt.ylabel(\"Validation Loss\")\n",
    "\n",
    "plt.tight_layout()\n",
    "plt.show()"
   ]
  },
  {
   "cell_type": "code",
   "execution_count": 203,
   "id": "fd6e8f0f",
   "metadata": {
    "lines_to_next_cell": 2
   },
   "outputs": [
    {
     "name": "stdout",
     "output_type": "stream",
     "text": [
      "Epoch 1/200 - Train Loss: 1.2954, Validation Loss: 0.0184\n",
      "Epoch 2/200 - Train Loss: 0.0523, Validation Loss: 0.0186\n",
      "Epoch 3/200 - Train Loss: 0.0570, Validation Loss: 0.0339\n",
      "Epoch 4/200 - Train Loss: 0.0636, Validation Loss: 0.0608\n",
      "Epoch 5/200 - Train Loss: 0.0691, Validation Loss: 0.0416\n",
      "Epoch 6/200 - Train Loss: 0.0689, Validation Loss: 0.0238\n"
     ]
    },
    {
     "ename": "KeyboardInterrupt",
     "evalue": "",
     "output_type": "error",
     "traceback": [
      "\u001b[1;31m---------------------------------------------------------------------------\u001b[0m",
      "\u001b[1;31mKeyboardInterrupt\u001b[0m                         Traceback (most recent call last)",
      "Cell \u001b[1;32mIn[203], line 12\u001b[0m\n\u001b[0;32m      9\u001b[0m \u001b[38;5;66;03m# Entraînez le modèle avec une boucle pour les 50 epochs\u001b[39;00m\n\u001b[0;32m     10\u001b[0m \u001b[38;5;28;01mfor\u001b[39;00m epoch \u001b[38;5;129;01min\u001b[39;00m \u001b[38;5;28mrange\u001b[39m(\u001b[38;5;241m15\u001b[39m):\u001b[38;5;66;03m#hyperparameters['epochs']\u001b[39;00m\n\u001b[0;32m     11\u001b[0m     \u001b[38;5;66;03m# Fit le modèle pour un epoch\u001b[39;00m\n\u001b[1;32m---> 12\u001b[0m     history \u001b[38;5;241m=\u001b[39m \u001b[43mnew_model\u001b[49m\u001b[38;5;241;43m.\u001b[39;49m\u001b[43mfit\u001b[49m\u001b[43m(\u001b[49m\u001b[43mtrainXS\u001b[49m\u001b[43m,\u001b[49m\u001b[43m \u001b[49m\u001b[43mtrainYS\u001b[49m\u001b[43m,\u001b[49m\u001b[43m \u001b[49m\u001b[43mepochs\u001b[49m\u001b[38;5;241;43m=\u001b[39;49m\u001b[38;5;241;43m1\u001b[39;49m\u001b[43m,\u001b[49m\u001b[43m \u001b[49m\u001b[43mbatch_size\u001b[49m\u001b[38;5;241;43m=\u001b[39;49m\u001b[43mhyperparameters\u001b[49m\u001b[43m[\u001b[49m\u001b[38;5;124;43m'\u001b[39;49m\u001b[38;5;124;43mbatch_size\u001b[39;49m\u001b[38;5;124;43m'\u001b[39;49m\u001b[43m]\u001b[49m\u001b[43m,\u001b[49m\u001b[43m \u001b[49m\n\u001b[0;32m     13\u001b[0m \u001b[43m                            \u001b[49m\u001b[43mvalidation_data\u001b[49m\u001b[38;5;241;43m=\u001b[39;49m\u001b[43m(\u001b[49m\u001b[43mtestXS\u001b[49m\u001b[43m,\u001b[49m\u001b[43m \u001b[49m\u001b[43mtestYS\u001b[49m\u001b[43m)\u001b[49m\u001b[43m,\u001b[49m\u001b[43m \u001b[49m\u001b[43mverbose\u001b[49m\u001b[38;5;241;43m=\u001b[39;49m\u001b[38;5;241;43m0\u001b[39;49m\u001b[43m)\u001b[49m\n\u001b[0;32m     15\u001b[0m     \u001b[38;5;66;03m# Récupérez les erreurs\u001b[39;00m\n\u001b[0;32m     16\u001b[0m     train_error \u001b[38;5;241m=\u001b[39m history\u001b[38;5;241m.\u001b[39mhistory[\u001b[38;5;124m'\u001b[39m\u001b[38;5;124mloss\u001b[39m\u001b[38;5;124m'\u001b[39m][\u001b[38;5;241m0\u001b[39m]\n",
      "File \u001b[1;32m~\\anaconda3\\envs\\financial_analysis\\lib\\site-packages\\keras\\utils\\traceback_utils.py:65\u001b[0m, in \u001b[0;36mfilter_traceback.<locals>.error_handler\u001b[1;34m(*args, **kwargs)\u001b[0m\n\u001b[0;32m     63\u001b[0m filtered_tb \u001b[38;5;241m=\u001b[39m \u001b[38;5;28;01mNone\u001b[39;00m\n\u001b[0;32m     64\u001b[0m \u001b[38;5;28;01mtry\u001b[39;00m:\n\u001b[1;32m---> 65\u001b[0m     \u001b[38;5;28;01mreturn\u001b[39;00m fn(\u001b[38;5;241m*\u001b[39margs, \u001b[38;5;241m*\u001b[39m\u001b[38;5;241m*\u001b[39mkwargs)\n\u001b[0;32m     66\u001b[0m \u001b[38;5;28;01mexcept\u001b[39;00m \u001b[38;5;167;01mException\u001b[39;00m \u001b[38;5;28;01mas\u001b[39;00m e:\n\u001b[0;32m     67\u001b[0m     filtered_tb \u001b[38;5;241m=\u001b[39m _process_traceback_frames(e\u001b[38;5;241m.\u001b[39m__traceback__)\n",
      "File \u001b[1;32m~\\anaconda3\\envs\\financial_analysis\\lib\\site-packages\\keras\\engine\\training.py:1564\u001b[0m, in \u001b[0;36mModel.fit\u001b[1;34m(self, x, y, batch_size, epochs, verbose, callbacks, validation_split, validation_data, shuffle, class_weight, sample_weight, initial_epoch, steps_per_epoch, validation_steps, validation_batch_size, validation_freq, max_queue_size, workers, use_multiprocessing)\u001b[0m\n\u001b[0;32m   1556\u001b[0m \u001b[38;5;28;01mwith\u001b[39;00m tf\u001b[38;5;241m.\u001b[39mprofiler\u001b[38;5;241m.\u001b[39mexperimental\u001b[38;5;241m.\u001b[39mTrace(\n\u001b[0;32m   1557\u001b[0m     \u001b[38;5;124m\"\u001b[39m\u001b[38;5;124mtrain\u001b[39m\u001b[38;5;124m\"\u001b[39m,\n\u001b[0;32m   1558\u001b[0m     epoch_num\u001b[38;5;241m=\u001b[39mepoch,\n\u001b[1;32m   (...)\u001b[0m\n\u001b[0;32m   1561\u001b[0m     _r\u001b[38;5;241m=\u001b[39m\u001b[38;5;241m1\u001b[39m,\n\u001b[0;32m   1562\u001b[0m ):\n\u001b[0;32m   1563\u001b[0m     callbacks\u001b[38;5;241m.\u001b[39mon_train_batch_begin(step)\n\u001b[1;32m-> 1564\u001b[0m     tmp_logs \u001b[38;5;241m=\u001b[39m \u001b[38;5;28;43mself\u001b[39;49m\u001b[38;5;241;43m.\u001b[39;49m\u001b[43mtrain_function\u001b[49m\u001b[43m(\u001b[49m\u001b[43miterator\u001b[49m\u001b[43m)\u001b[49m\n\u001b[0;32m   1565\u001b[0m     \u001b[38;5;28;01mif\u001b[39;00m data_handler\u001b[38;5;241m.\u001b[39mshould_sync:\n\u001b[0;32m   1566\u001b[0m         context\u001b[38;5;241m.\u001b[39masync_wait()\n",
      "File \u001b[1;32m~\\anaconda3\\envs\\financial_analysis\\lib\\site-packages\\tensorflow\\python\\util\\traceback_utils.py:150\u001b[0m, in \u001b[0;36mfilter_traceback.<locals>.error_handler\u001b[1;34m(*args, **kwargs)\u001b[0m\n\u001b[0;32m    148\u001b[0m filtered_tb \u001b[38;5;241m=\u001b[39m \u001b[38;5;28;01mNone\u001b[39;00m\n\u001b[0;32m    149\u001b[0m \u001b[38;5;28;01mtry\u001b[39;00m:\n\u001b[1;32m--> 150\u001b[0m   \u001b[38;5;28;01mreturn\u001b[39;00m fn(\u001b[38;5;241m*\u001b[39margs, \u001b[38;5;241m*\u001b[39m\u001b[38;5;241m*\u001b[39mkwargs)\n\u001b[0;32m    151\u001b[0m \u001b[38;5;28;01mexcept\u001b[39;00m \u001b[38;5;167;01mException\u001b[39;00m \u001b[38;5;28;01mas\u001b[39;00m e:\n\u001b[0;32m    152\u001b[0m   filtered_tb \u001b[38;5;241m=\u001b[39m _process_traceback_frames(e\u001b[38;5;241m.\u001b[39m__traceback__)\n",
      "File \u001b[1;32m~\\anaconda3\\envs\\financial_analysis\\lib\\site-packages\\tensorflow\\python\\eager\\def_function.py:915\u001b[0m, in \u001b[0;36mFunction.__call__\u001b[1;34m(self, *args, **kwds)\u001b[0m\n\u001b[0;32m    912\u001b[0m compiler \u001b[38;5;241m=\u001b[39m \u001b[38;5;124m\"\u001b[39m\u001b[38;5;124mxla\u001b[39m\u001b[38;5;124m\"\u001b[39m \u001b[38;5;28;01mif\u001b[39;00m \u001b[38;5;28mself\u001b[39m\u001b[38;5;241m.\u001b[39m_jit_compile \u001b[38;5;28;01melse\u001b[39;00m \u001b[38;5;124m\"\u001b[39m\u001b[38;5;124mnonXla\u001b[39m\u001b[38;5;124m\"\u001b[39m\n\u001b[0;32m    914\u001b[0m \u001b[38;5;28;01mwith\u001b[39;00m OptionalXlaContext(\u001b[38;5;28mself\u001b[39m\u001b[38;5;241m.\u001b[39m_jit_compile):\n\u001b[1;32m--> 915\u001b[0m   result \u001b[38;5;241m=\u001b[39m \u001b[38;5;28mself\u001b[39m\u001b[38;5;241m.\u001b[39m_call(\u001b[38;5;241m*\u001b[39margs, \u001b[38;5;241m*\u001b[39m\u001b[38;5;241m*\u001b[39mkwds)\n\u001b[0;32m    917\u001b[0m new_tracing_count \u001b[38;5;241m=\u001b[39m \u001b[38;5;28mself\u001b[39m\u001b[38;5;241m.\u001b[39mexperimental_get_tracing_count()\n\u001b[0;32m    918\u001b[0m without_tracing \u001b[38;5;241m=\u001b[39m (tracing_count \u001b[38;5;241m==\u001b[39m new_tracing_count)\n",
      "File \u001b[1;32m~\\anaconda3\\envs\\financial_analysis\\lib\\site-packages\\tensorflow\\python\\eager\\def_function.py:947\u001b[0m, in \u001b[0;36mFunction._call\u001b[1;34m(self, *args, **kwds)\u001b[0m\n\u001b[0;32m    944\u001b[0m   \u001b[38;5;28mself\u001b[39m\u001b[38;5;241m.\u001b[39m_lock\u001b[38;5;241m.\u001b[39mrelease()\n\u001b[0;32m    945\u001b[0m   \u001b[38;5;66;03m# In this case we have created variables on the first call, so we run the\u001b[39;00m\n\u001b[0;32m    946\u001b[0m   \u001b[38;5;66;03m# defunned version which is guaranteed to never create variables.\u001b[39;00m\n\u001b[1;32m--> 947\u001b[0m   \u001b[38;5;28;01mreturn\u001b[39;00m \u001b[38;5;28mself\u001b[39m\u001b[38;5;241m.\u001b[39m_stateless_fn(\u001b[38;5;241m*\u001b[39margs, \u001b[38;5;241m*\u001b[39m\u001b[38;5;241m*\u001b[39mkwds)  \u001b[38;5;66;03m# pylint: disable=not-callable\u001b[39;00m\n\u001b[0;32m    948\u001b[0m \u001b[38;5;28;01melif\u001b[39;00m \u001b[38;5;28mself\u001b[39m\u001b[38;5;241m.\u001b[39m_stateful_fn \u001b[38;5;129;01mis\u001b[39;00m \u001b[38;5;129;01mnot\u001b[39;00m \u001b[38;5;28;01mNone\u001b[39;00m:\n\u001b[0;32m    949\u001b[0m   \u001b[38;5;66;03m# Release the lock early so that multiple threads can perform the call\u001b[39;00m\n\u001b[0;32m    950\u001b[0m   \u001b[38;5;66;03m# in parallel.\u001b[39;00m\n\u001b[0;32m    951\u001b[0m   \u001b[38;5;28mself\u001b[39m\u001b[38;5;241m.\u001b[39m_lock\u001b[38;5;241m.\u001b[39mrelease()\n",
      "File \u001b[1;32m~\\anaconda3\\envs\\financial_analysis\\lib\\site-packages\\tensorflow\\python\\eager\\function.py:2496\u001b[0m, in \u001b[0;36mFunction.__call__\u001b[1;34m(self, *args, **kwargs)\u001b[0m\n\u001b[0;32m   2493\u001b[0m \u001b[38;5;28;01mwith\u001b[39;00m \u001b[38;5;28mself\u001b[39m\u001b[38;5;241m.\u001b[39m_lock:\n\u001b[0;32m   2494\u001b[0m   (graph_function,\n\u001b[0;32m   2495\u001b[0m    filtered_flat_args) \u001b[38;5;241m=\u001b[39m \u001b[38;5;28mself\u001b[39m\u001b[38;5;241m.\u001b[39m_maybe_define_function(args, kwargs)\n\u001b[1;32m-> 2496\u001b[0m \u001b[38;5;28;01mreturn\u001b[39;00m \u001b[43mgraph_function\u001b[49m\u001b[38;5;241;43m.\u001b[39;49m\u001b[43m_call_flat\u001b[49m\u001b[43m(\u001b[49m\n\u001b[0;32m   2497\u001b[0m \u001b[43m    \u001b[49m\u001b[43mfiltered_flat_args\u001b[49m\u001b[43m,\u001b[49m\u001b[43m \u001b[49m\u001b[43mcaptured_inputs\u001b[49m\u001b[38;5;241;43m=\u001b[39;49m\u001b[43mgraph_function\u001b[49m\u001b[38;5;241;43m.\u001b[39;49m\u001b[43mcaptured_inputs\u001b[49m\u001b[43m)\u001b[49m\n",
      "File \u001b[1;32m~\\anaconda3\\envs\\financial_analysis\\lib\\site-packages\\tensorflow\\python\\eager\\function.py:1862\u001b[0m, in \u001b[0;36mConcreteFunction._call_flat\u001b[1;34m(self, args, captured_inputs, cancellation_manager)\u001b[0m\n\u001b[0;32m   1858\u001b[0m possible_gradient_type \u001b[38;5;241m=\u001b[39m gradients_util\u001b[38;5;241m.\u001b[39mPossibleTapeGradientTypes(args)\n\u001b[0;32m   1859\u001b[0m \u001b[38;5;28;01mif\u001b[39;00m (possible_gradient_type \u001b[38;5;241m==\u001b[39m gradients_util\u001b[38;5;241m.\u001b[39mPOSSIBLE_GRADIENT_TYPES_NONE\n\u001b[0;32m   1860\u001b[0m     \u001b[38;5;129;01mand\u001b[39;00m executing_eagerly):\n\u001b[0;32m   1861\u001b[0m   \u001b[38;5;66;03m# No tape is watching; skip to running the function.\u001b[39;00m\n\u001b[1;32m-> 1862\u001b[0m   \u001b[38;5;28;01mreturn\u001b[39;00m \u001b[38;5;28mself\u001b[39m\u001b[38;5;241m.\u001b[39m_build_call_outputs(\u001b[38;5;28;43mself\u001b[39;49m\u001b[38;5;241;43m.\u001b[39;49m\u001b[43m_inference_function\u001b[49m\u001b[38;5;241;43m.\u001b[39;49m\u001b[43mcall\u001b[49m\u001b[43m(\u001b[49m\n\u001b[0;32m   1863\u001b[0m \u001b[43m      \u001b[49m\u001b[43mctx\u001b[49m\u001b[43m,\u001b[49m\u001b[43m \u001b[49m\u001b[43margs\u001b[49m\u001b[43m,\u001b[49m\u001b[43m \u001b[49m\u001b[43mcancellation_manager\u001b[49m\u001b[38;5;241;43m=\u001b[39;49m\u001b[43mcancellation_manager\u001b[49m\u001b[43m)\u001b[49m)\n\u001b[0;32m   1864\u001b[0m forward_backward \u001b[38;5;241m=\u001b[39m \u001b[38;5;28mself\u001b[39m\u001b[38;5;241m.\u001b[39m_select_forward_and_backward_functions(\n\u001b[0;32m   1865\u001b[0m     args,\n\u001b[0;32m   1866\u001b[0m     possible_gradient_type,\n\u001b[0;32m   1867\u001b[0m     executing_eagerly)\n\u001b[0;32m   1868\u001b[0m forward_function, args_with_tangents \u001b[38;5;241m=\u001b[39m forward_backward\u001b[38;5;241m.\u001b[39mforward()\n",
      "File \u001b[1;32m~\\anaconda3\\envs\\financial_analysis\\lib\\site-packages\\tensorflow\\python\\eager\\function.py:499\u001b[0m, in \u001b[0;36m_EagerDefinedFunction.call\u001b[1;34m(self, ctx, args, cancellation_manager)\u001b[0m\n\u001b[0;32m    497\u001b[0m \u001b[38;5;28;01mwith\u001b[39;00m _InterpolateFunctionError(\u001b[38;5;28mself\u001b[39m):\n\u001b[0;32m    498\u001b[0m   \u001b[38;5;28;01mif\u001b[39;00m cancellation_manager \u001b[38;5;129;01mis\u001b[39;00m \u001b[38;5;28;01mNone\u001b[39;00m:\n\u001b[1;32m--> 499\u001b[0m     outputs \u001b[38;5;241m=\u001b[39m \u001b[43mexecute\u001b[49m\u001b[38;5;241;43m.\u001b[39;49m\u001b[43mexecute\u001b[49m\u001b[43m(\u001b[49m\n\u001b[0;32m    500\u001b[0m \u001b[43m        \u001b[49m\u001b[38;5;28;43mstr\u001b[39;49m\u001b[43m(\u001b[49m\u001b[38;5;28;43mself\u001b[39;49m\u001b[38;5;241;43m.\u001b[39;49m\u001b[43msignature\u001b[49m\u001b[38;5;241;43m.\u001b[39;49m\u001b[43mname\u001b[49m\u001b[43m)\u001b[49m\u001b[43m,\u001b[49m\n\u001b[0;32m    501\u001b[0m \u001b[43m        \u001b[49m\u001b[43mnum_outputs\u001b[49m\u001b[38;5;241;43m=\u001b[39;49m\u001b[38;5;28;43mself\u001b[39;49m\u001b[38;5;241;43m.\u001b[39;49m\u001b[43m_num_outputs\u001b[49m\u001b[43m,\u001b[49m\n\u001b[0;32m    502\u001b[0m \u001b[43m        \u001b[49m\u001b[43minputs\u001b[49m\u001b[38;5;241;43m=\u001b[39;49m\u001b[43margs\u001b[49m\u001b[43m,\u001b[49m\n\u001b[0;32m    503\u001b[0m \u001b[43m        \u001b[49m\u001b[43mattrs\u001b[49m\u001b[38;5;241;43m=\u001b[39;49m\u001b[43mattrs\u001b[49m\u001b[43m,\u001b[49m\n\u001b[0;32m    504\u001b[0m \u001b[43m        \u001b[49m\u001b[43mctx\u001b[49m\u001b[38;5;241;43m=\u001b[39;49m\u001b[43mctx\u001b[49m\u001b[43m)\u001b[49m\n\u001b[0;32m    505\u001b[0m   \u001b[38;5;28;01melse\u001b[39;00m:\n\u001b[0;32m    506\u001b[0m     outputs \u001b[38;5;241m=\u001b[39m execute\u001b[38;5;241m.\u001b[39mexecute_with_cancellation(\n\u001b[0;32m    507\u001b[0m         \u001b[38;5;28mstr\u001b[39m(\u001b[38;5;28mself\u001b[39m\u001b[38;5;241m.\u001b[39msignature\u001b[38;5;241m.\u001b[39mname),\n\u001b[0;32m    508\u001b[0m         num_outputs\u001b[38;5;241m=\u001b[39m\u001b[38;5;28mself\u001b[39m\u001b[38;5;241m.\u001b[39m_num_outputs,\n\u001b[1;32m   (...)\u001b[0m\n\u001b[0;32m    511\u001b[0m         ctx\u001b[38;5;241m=\u001b[39mctx,\n\u001b[0;32m    512\u001b[0m         cancellation_manager\u001b[38;5;241m=\u001b[39mcancellation_manager)\n",
      "File \u001b[1;32m~\\anaconda3\\envs\\financial_analysis\\lib\\site-packages\\tensorflow\\python\\eager\\execute.py:54\u001b[0m, in \u001b[0;36mquick_execute\u001b[1;34m(op_name, num_outputs, inputs, attrs, ctx, name)\u001b[0m\n\u001b[0;32m     52\u001b[0m \u001b[38;5;28;01mtry\u001b[39;00m:\n\u001b[0;32m     53\u001b[0m   ctx\u001b[38;5;241m.\u001b[39mensure_initialized()\n\u001b[1;32m---> 54\u001b[0m   tensors \u001b[38;5;241m=\u001b[39m \u001b[43mpywrap_tfe\u001b[49m\u001b[38;5;241;43m.\u001b[39;49m\u001b[43mTFE_Py_Execute\u001b[49m\u001b[43m(\u001b[49m\u001b[43mctx\u001b[49m\u001b[38;5;241;43m.\u001b[39;49m\u001b[43m_handle\u001b[49m\u001b[43m,\u001b[49m\u001b[43m \u001b[49m\u001b[43mdevice_name\u001b[49m\u001b[43m,\u001b[49m\u001b[43m \u001b[49m\u001b[43mop_name\u001b[49m\u001b[43m,\u001b[49m\n\u001b[0;32m     55\u001b[0m \u001b[43m                                      \u001b[49m\u001b[43minputs\u001b[49m\u001b[43m,\u001b[49m\u001b[43m \u001b[49m\u001b[43mattrs\u001b[49m\u001b[43m,\u001b[49m\u001b[43m \u001b[49m\u001b[43mnum_outputs\u001b[49m\u001b[43m)\u001b[49m\n\u001b[0;32m     56\u001b[0m \u001b[38;5;28;01mexcept\u001b[39;00m core\u001b[38;5;241m.\u001b[39m_NotOkStatusException \u001b[38;5;28;01mas\u001b[39;00m e:\n\u001b[0;32m     57\u001b[0m   \u001b[38;5;28;01mif\u001b[39;00m name \u001b[38;5;129;01mis\u001b[39;00m \u001b[38;5;129;01mnot\u001b[39;00m \u001b[38;5;28;01mNone\u001b[39;00m:\n",
      "\u001b[1;31mKeyboardInterrupt\u001b[0m: "
     ]
    }
   ],
   "source": [
    "# Obtenez la configuration du meilleur modèle\n",
    "best_hyperparameters = tuner.get_best_hyperparameters(num_trials=1)[0]\n",
    "# Reconstruisez le modèle à partir de ces hyperparamètres\n",
    "new_model = actual_build_model(best_hyperparameters)\n",
    "\n",
    "train_errors = []\n",
    "val_errors = []\n",
    "\n",
    "# Configuration de l'arrêt anticipé\n",
    "early_stopping = EarlyStopping(monitor='val_loss', patience=5, restore_best_weights=True)\n",
    "\n",
    "\n",
    "# Entraînement du modèle avec l'arrêt anticipé\n",
    "history = new_model.fit(trainXS, trainYS, batch_size=hps['batch_size'], \n",
    "                        validation_data=(testXS, testYS), verbose=1, callbacks=[early_stopping])\n",
    "\n",
    "# Récupérez les erreurs\n",
    "train_errors = history.history['loss']\n",
    "val_errors = history.history['val_loss']\n",
    "    \n",
    "# Création du graphique\n",
    "plt.figure(figsize=(10, 6))\n",
    "plt.plot(train_errors, label='Train Loss', color='blue')\n",
    "plt.plot(val_errors, label='Validation Loss', color='red')\n",
    "\n",
    "# Titre et labels\n",
    "plt.title('Train vs Validation Loss over Epochs')\n",
    "plt.xlabel('Epoch')\n",
    "plt.ylabel('Loss')\n",
    "plt.legend()\n",
    "\n",
    "plt.grid(True)\n",
    "plt.tight_layout()\n",
    "plt.show()"
   ]
  },
  {
   "cell_type": "code",
   "execution_count": 202,
   "id": "4ee497d3",
   "metadata": {
    "lines_to_next_cell": 2
   },
   "outputs": [
    {
     "name": "stdout",
     "output_type": "stream",
     "text": [
      "384272\n",
      "511\n",
      "752\n",
      "379673\n",
      "380184\n",
      "379673\n",
      "379733\n",
      "(60, 1)\n",
      "(1, 60, 1)\n",
      "1/1 [==============================] - 0s 381ms/step\n",
      "prediction_points [285]\n"
     ]
    },
    {
     "data": {
      "image/png": "[encoded data removed]",
      "text/plain": [
       "<Figure size 1500x800 with 1 Axes>"
      ]
     },
     "metadata": {},
     "output_type": "display_data"
    }
   ],
   "source": [
    "nb_quots_by_day = data_info['nb_quots_by_day']\n",
    "look_back_x = data_info['look_back_x']\n",
    "stride_x = data_info['stride_x']\n",
    "nb_y = data_info['nb_y']\n",
    "\n",
    "print( len(df))\n",
    "print( nb_quots_by_day)\n",
    "print( (len(df) // nb_quots_by_day))\n",
    "num_day = (len(df) // nb_quots_by_day) - 9\n",
    "quots_start = num_day * nb_quots_by_day\n",
    "quots_end =  (num_day+1) * nb_quots_by_day\n",
    "\n",
    "print(quots_start)\n",
    "print(quots_end)\n",
    "\n",
    "plt.close()  # Ferme le graphique actuel\n",
    "\n",
    "plt.figure(figsize=(15,8))\n",
    "plt.plot(df['openPrice'].iloc[quots_start:quots_end].values, label='Cours réel')\n",
    "plt.title('Cours d\\'une journée de cotation')\n",
    "plt.xlabel('Temps')\n",
    "plt.ylabel('Cours')\n",
    "\n",
    "test_start = quots_start\n",
    "test_end = quots_start + look_back_x * stride_x\n",
    "\n",
    "print(test_start)\n",
    "print(test_end)\n",
    "\n",
    "X_pred = df.iloc[test_start:test_end:stride_x, :]\n",
    "\n",
    "X_pred = X_pred.values.reshape(look_back_x, -1)  # Remodelage pour que cela corresponde à l'entrée attendue par le modèle\n",
    "\n",
    "# Create a copy of the original data to transform\n",
    "X_predS = np.copy(X_pred)\n",
    "for i, scaler in enumerate(scalers): \n",
    "    X_predS[:, i] = scaler.transform(X_pred.reshape(-1, 1)).flatten()\n",
    "  \n",
    "print(X_predS.shape)\n",
    "\n",
    "X_predS = X_predS.reshape(1,look_back_x,-1)\n",
    "print(X_predS.shape)\n",
    "\n",
    "\n",
    "y_pred = new_model.predict(X_predS)\n",
    "y_pred_original = scalers[open_price_index].inverse_transform(y_pred)\n",
    "\n",
    "\n",
    "# Les points où les prédictions sont faites\n",
    "prediction_points = []\n",
    "for i in range(1, nb_y+1):\n",
    "    offset = i * ((nb_quots_by_day - look_back_x*stride_x) // (nb_y+1))\n",
    "    prediction_points.append(test_end - test_start + offset)\n",
    "    \n",
    "print(\"prediction_points\", prediction_points)\n",
    "# Ajout des prédictions au graphique\n",
    "for idx, value in enumerate(y_pred_original[0]):\n",
    "    plt.scatter(prediction_points[idx], value, color='red', label='Prédiction {}'.format(idx+1))\n",
    "plt.legend()\n",
    "plt.show()\n",
    "\n"
   ]
  },
  {
   "cell_type": "code",
   "execution_count": 14,
   "id": "062b9d4e",
   "metadata": {},
   "outputs": [
    {
     "name": "stdout",
     "output_type": "stream",
     "text": [
      "MSE en utilisant la dernière valeur de chaque séquence: 0.03071\n",
      "Meilleur MSE pour le modèle LSTM: 0.24121\n",
      "\n",
      "Résultats:\n",
      "Amélioration par rapport à la prédiction de la dernière valeur: -0.21050\n"
     ]
    }
   ],
   "source": [
    "# 2. Prédire la même valeur que le dernier échantillon\n",
    "# Supposant que la première caractéristique dans \"features\" est celle que nous voulons prédire.\n",
    "last_value_predictions = testXS[:, -1, 0]\n",
    "mse_last_value = mean_squared_error(testYS[:, 0], last_value_predictions)\n",
    "print(f\"MSE en utilisant la dernière valeur de chaque séquence: {mse_last_value:.5f}\")\n",
    "\n",
    "# Comparaison avec le meilleur modèle LSTM\n",
    "best_mse_lstm = df_results['Score (val_loss)'].min()\n",
    "print(f\"Meilleur MSE pour le modèle LSTM: {best_mse_lstm:.5f}\")\n",
    "\n",
    "print(\"\\nRésultats:\")\n",
    "print(f\"Amélioration par rapport à la prédiction de la dernière valeur: {mse_last_value - best_mse_lstm:.5f}\")"
   ]
  },
  {
   "cell_type": "code",
   "execution_count": 79,
   "id": "75d5395a",
   "metadata": {},
   "outputs": [
    {
     "data": {
      "text/plain": [
       "(737, 60, 2)"
      ]
     },
     "execution_count": 79,
     "metadata": {},
     "output_type": "execute_result"
    }
   ],
   "source": [
    "trainXS.shape"
   ]
  },
  {
   "cell_type": "code",
   "execution_count": 78,
   "id": "19e2ea39",
   "metadata": {},
   "outputs": [
    {
     "data": {
      "text/plain": [
       "(737, 1, 2)"
      ]
     },
     "execution_count": 78,
     "metadata": {},
     "output_type": "execute_result"
    }
   ],
   "source": [
    "trainYS.shape"
   ]
  },
  {
   "cell_type": "code",
   "execution_count": 36,
   "id": "e4348582",
   "metadata": {
    "lines_to_next_cell": 0
   },
   "outputs": [
    {
     "data": {
      "application/vnd.plotly.v1+json": {
       "config": {
        "plotlyServerURL": "https://plot.ly"
       },
       "data": [
        {
         "mode": "lines",
         "name": "Random Data",
         "type": "scatter",
         "x": [
          "2022-01-01T00:00:00",
          "2022-01-02T00:00:00",
          "2022-01-03T00:00:00",
          "2022-01-04T00:00:00",
          "2022-01-05T00:00:00",
          "2022-01-06T00:00:00",
          "2022-01-07T00:00:00",
          "2022-01-08T00:00:00",
          "2022-01-09T00:00:00",
          "2022-01-10T00:00:00",
          "2022-01-11T00:00:00",
          "2022-01-12T00:00:00",
          "2022-01-13T00:00:00",
          "2022-01-14T00:00:00",
          "2022-01-15T00:00:00",
          "2022-01-16T00:00:00",
          "2022-01-17T00:00:00",
          "2022-01-18T00:00:00",
          "2022-01-19T00:00:00",
          "2022-01-20T00:00:00",
          "2022-01-21T00:00:00",
          "2022-01-22T00:00:00",
          "2022-01-23T00:00:00",
          "2022-01-24T00:00:00",
          "2022-01-25T00:00:00",
          "2022-01-26T00:00:00",
          "2022-01-27T00:00:00",
          "2022-01-28T00:00:00",
          "2022-01-29T00:00:00",
          "2022-01-30T00:00:00",
          "2022-01-31T00:00:00",
          "2022-02-01T00:00:00",
          "2022-02-02T00:00:00",
          "2022-02-03T00:00:00",
          "2022-02-04T00:00:00",
          "2022-02-05T00:00:00",
          "2022-02-06T00:00:00",
          "2022-02-07T00:00:00",
          "2022-02-08T00:00:00",
          "2022-02-09T00:00:00",
          "2022-02-10T00:00:00",
          "2022-02-11T00:00:00",
          "2022-02-12T00:00:00",
          "2022-02-13T00:00:00",
          "2022-02-14T00:00:00",
          "2022-02-15T00:00:00",
          "2022-02-16T00:00:00",
          "2022-02-17T00:00:00",
          "2022-02-18T00:00:00",
          "2022-02-19T00:00:00",
          "2022-02-20T00:00:00",
          "2022-02-21T00:00:00",
          "2022-02-22T00:00:00",
          "2022-02-23T00:00:00",
          "2022-02-24T00:00:00",
          "2022-02-25T00:00:00",
          "2022-02-26T00:00:00",
          "2022-02-27T00:00:00",
          "2022-02-28T00:00:00",
          "2022-03-01T00:00:00",
          "2022-03-02T00:00:00",
          "2022-03-03T00:00:00",
          "2022-03-04T00:00:00",
          "2022-03-05T00:00:00",
          "2022-03-06T00:00:00",
          "2022-03-07T00:00:00",
          "2022-03-08T00:00:00",
          "2022-03-09T00:00:00",
          "2022-03-10T00:00:00",
          "2022-03-11T00:00:00",
          "2022-03-12T00:00:00",
          "2022-03-13T00:00:00",
          "2022-03-14T00:00:00",
          "2022-03-15T00:00:00",
          "2022-03-16T00:00:00",
          "2022-03-17T00:00:00",
          "2022-03-18T00:00:00",
          "2022-03-19T00:00:00",
          "2022-03-20T00:00:00",
          "2022-03-21T00:00:00",
          "2022-03-22T00:00:00",
          "2022-03-23T00:00:00",
          "2022-03-24T00:00:00",
          "2022-03-25T00:00:00",
          "2022-03-26T00:00:00",
          "2022-03-27T00:00:00",
          "2022-03-28T00:00:00",
          "2022-03-29T00:00:00",
          "2022-03-30T00:00:00",
          "2022-03-31T00:00:00",
          "2022-04-01T00:00:00",
          "2022-04-02T00:00:00",
          "2022-04-03T00:00:00",
          "2022-04-04T00:00:00",
          "2022-04-05T00:00:00",
          "2022-04-06T00:00:00",
          "2022-04-07T00:00:00",
          "2022-04-08T00:00:00",
          "2022-04-09T00:00:00",
          "2022-04-10T00:00:00"
         ],
         "y": [
          0.4967141530112327,
          -0.13826430117118466,
          0.6476885381006925,
          1.5230298564080254,
          -0.23415337472333597,
          -0.23413695694918055,
          1.5792128155073915,
          0.7674347291529088,
          -0.4694743859349521,
          0.5425600435859647,
          -0.46341769281246226,
          -0.46572975357025687,
          0.24196227156603412,
          -1.913280244657798,
          -1.7249178325130328,
          -0.5622875292409727,
          -1.0128311203344238,
          0.3142473325952739,
          -0.9080240755212109,
          -1.4123037013352915,
          1.465648768921554,
          -0.22577630048653566,
          0.06752820468792384,
          -1.4247481862134568,
          -0.5443827245251827,
          0.11092258970986608,
          -1.1509935774223028,
          0.37569801834567196,
          -0.600638689918805,
          -0.2916937497932768,
          -0.6017066122293969,
          1.8522781845089378,
          -0.013497224737933921,
          -1.0577109289559004,
          0.822544912103189,
          -1.2208436499710222,
          0.2088635950047554,
          -1.9596701238797756,
          -1.3281860488984305,
          0.19686123586912352,
          0.7384665799954104,
          0.1713682811899705,
          -0.11564828238824053,
          -0.3011036955892888,
          -1.4785219903674274,
          -0.7198442083947086,
          -0.4606387709597875,
          1.0571222262189157,
          0.3436182895684614,
          -1.763040155362734,
          0.324083969394795,
          -0.38508228041631654,
          -0.6769220003059587,
          0.6116762888408679,
          1.030999522495951,
          0.9312801191161986,
          -0.8392175232226385,
          -0.3092123758512146,
          0.33126343140356396,
          0.9755451271223592,
          -0.47917423784528995,
          -0.18565897666381712,
          -1.1063349740060282,
          -1.1962066240806708,
          0.812525822394198,
          1.356240028570823,
          -0.07201012158033385,
          1.0035328978920242,
          0.36163602504763415,
          -0.6451197546051243,
          0.36139560550841393,
          1.5380365664659692,
          -0.03582603910995154,
          1.5646436558140062,
          -2.6197451040897444,
          0.8219025043752238,
          0.08704706823817122,
          -0.29900735046586746,
          0.0917607765355023,
          -1.9875689146008928,
          -0.21967188783751193,
          0.3571125715117464,
          1.477894044741516,
          -0.5182702182736474,
          -0.8084936028931876,
          -0.5017570435845365,
          0.9154021177020741,
          0.32875110965968446,
          -0.5297602037670388,
          0.5132674331133561,
          0.09707754934804039,
          0.9686449905328892,
          -0.7020530938773524,
          -0.3276621465977682,
          -0.39210815313215763,
          -1.4635149481321186,
          0.29612027706457605,
          0.26105527217988933,
          0.00511345664246089,
          -0.23458713337514692
         ]
        }
       ],
       "layout": {
        "template": {
         "data": {
          "bar": [
           {
            "error_x": {
             "color": "#2a3f5f"
            },
            "error_y": {
             "color": "#2a3f5f"
            },
            "marker": {
             "line": {
              "color": "#E5ECF6",
              "width": 0.5
             },
             "pattern": {
              "fillmode": "overlay",
              "size": 10,
              "solidity": 0.2
             }
            },
            "type": "bar"
           }
          ],
          "barpolar": [
           {
            "marker": {
             "line": {
              "color": "#E5ECF6",
              "width": 0.5
             },
             "pattern": {
              "fillmode": "overlay",
              "size": 10,
              "solidity": 0.2
             }
            },
            "type": "barpolar"
           }
          ],
          "carpet": [
           {
            "aaxis": {
             "endlinecolor": "#2a3f5f",
             "gridcolor": "white",
             "linecolor": "white",
             "minorgridcolor": "white",
             "startlinecolor": "#2a3f5f"
            },
            "baxis": {
             "endlinecolor": "#2a3f5f",
             "gridcolor": "white",
             "linecolor": "white",
             "minorgridcolor": "white",
             "startlinecolor": "#2a3f5f"
            },
            "type": "carpet"
           }
          ],
          "choropleth": [
           {
            "colorbar": {
             "outlinewidth": 0,
             "ticks": ""
            },
            "type": "choropleth"
           }
          ],
          "contour": [
           {
            "colorbar": {
             "outlinewidth": 0,
             "ticks": ""
            },
            "colorscale": [
             [
              0,
              "#0d0887"
             ],
             [
              0.1111111111111111,
              "#46039f"
             ],
             [
              0.2222222222222222,
              "#7201a8"
             ],
             [
              0.3333333333333333,
              "#9c179e"
             ],
             [
              0.4444444444444444,
              "#bd3786"
             ],
             [
              0.5555555555555556,
              "#d8576b"
             ],
             [
              0.6666666666666666,
              "#ed7953"
             ],
             [
              0.7777777777777778,
              "#fb9f3a"
             ],
             [
              0.8888888888888888,
              "#fdca26"
             ],
             [
              1,
              "#f0f921"
             ]
            ],
            "type": "contour"
           }
          ],
          "contourcarpet": [
           {
            "colorbar": {
             "outlinewidth": 0,
             "ticks": ""
            },
            "type": "contourcarpet"
           }
          ],
          "heatmap": [
           {
            "colorbar": {
             "outlinewidth": 0,
             "ticks": ""
            },
            "colorscale": [
             [
              0,
              "#0d0887"
             ],
             [
              0.1111111111111111,
              "#46039f"
             ],
             [
              0.2222222222222222,
              "#7201a8"
             ],
             [
              0.3333333333333333,
              "#9c179e"
             ],
             [
              0.4444444444444444,
              "#bd3786"
             ],
             [
              0.5555555555555556,
              "#d8576b"
             ],
             [
              0.6666666666666666,
              "#ed7953"
             ],
             [
              0.7777777777777778,
              "#fb9f3a"
             ],
             [
              0.8888888888888888,
              "#fdca26"
             ],
             [
              1,
              "#f0f921"
             ]
            ],
            "type": "heatmap"
           }
          ],
          "heatmapgl": [
           {
            "colorbar": {
             "outlinewidth": 0,
             "ticks": ""
            },
            "colorscale": [
             [
              0,
              "#0d0887"
             ],
             [
              0.1111111111111111,
              "#46039f"
             ],
             [
              0.2222222222222222,
              "#7201a8"
             ],
             [
              0.3333333333333333,
              "#9c179e"
             ],
             [
              0.4444444444444444,
              "#bd3786"
             ],
             [
              0.5555555555555556,
              "#d8576b"
             ],
             [
              0.6666666666666666,
              "#ed7953"
             ],
             [
              0.7777777777777778,
              "#fb9f3a"
             ],
             [
              0.8888888888888888,
              "#fdca26"
             ],
             [
              1,
              "#f0f921"
             ]
            ],
            "type": "heatmapgl"
           }
          ],
          "histogram": [
           {
            "marker": {
             "pattern": {
              "fillmode": "overlay",
              "size": 10,
              "solidity": 0.2
             }
            },
            "type": "histogram"
           }
          ],
          "histogram2d": [
           {
            "colorbar": {
             "outlinewidth": 0,
             "ticks": ""
            },
            "colorscale": [
             [
              0,
              "#0d0887"
             ],
             [
              0.1111111111111111,
              "#46039f"
             ],
             [
              0.2222222222222222,
              "#7201a8"
             ],
             [
              0.3333333333333333,
              "#9c179e"
             ],
             [
              0.4444444444444444,
              "#bd3786"
             ],
             [
              0.5555555555555556,
              "#d8576b"
             ],
             [
              0.6666666666666666,
              "#ed7953"
             ],
             [
              0.7777777777777778,
              "#fb9f3a"
             ],
             [
              0.8888888888888888,
              "#fdca26"
             ],
             [
              1,
              "#f0f921"
             ]
            ],
            "type": "histogram2d"
           }
          ],
          "histogram2dcontour": [
           {
            "colorbar": {
             "outlinewidth": 0,
             "ticks": ""
            },
            "colorscale": [
             [
              0,
              "#0d0887"
             ],
             [
              0.1111111111111111,
              "#46039f"
             ],
             [
              0.2222222222222222,
              "#7201a8"
             ],
             [
              0.3333333333333333,
              "#9c179e"
             ],
             [
              0.4444444444444444,
              "#bd3786"
             ],
             [
              0.5555555555555556,
              "#d8576b"
             ],
             [
              0.6666666666666666,
              "#ed7953"
             ],
             [
              0.7777777777777778,
              "#fb9f3a"
             ],
             [
              0.8888888888888888,
              "#fdca26"
             ],
             [
              1,
              "#f0f921"
             ]
            ],
            "type": "histogram2dcontour"
           }
          ],
          "mesh3d": [
           {
            "colorbar": {
             "outlinewidth": 0,
             "ticks": ""
            },
            "type": "mesh3d"
           }
          ],
          "parcoords": [
           {
            "line": {
             "colorbar": {
              "outlinewidth": 0,
              "ticks": ""
             }
            },
            "type": "parcoords"
           }
          ],
          "pie": [
           {
            "automargin": true,
            "type": "pie"
           }
          ],
          "scatter": [
           {
            "fillpattern": {
             "fillmode": "overlay",
             "size": 10,
             "solidity": 0.2
            },
            "type": "scatter"
           }
          ],
          "scatter3d": [
           {
            "line": {
             "colorbar": {
              "outlinewidth": 0,
              "ticks": ""
             }
            },
            "marker": {
             "colorbar": {
              "outlinewidth": 0,
              "ticks": ""
             }
            },
            "type": "scatter3d"
           }
          ],
          "scattercarpet": [
           {
            "marker": {
             "colorbar": {
              "outlinewidth": 0,
              "ticks": ""
             }
            },
            "type": "scattercarpet"
           }
          ],
          "scattergeo": [
           {
            "marker": {
             "colorbar": {
              "outlinewidth": 0,
              "ticks": ""
             }
            },
            "type": "scattergeo"
           }
          ],
          "scattergl": [
           {
            "marker": {
             "colorbar": {
              "outlinewidth": 0,
              "ticks": ""
             }
            },
            "type": "scattergl"
           }
          ],
          "scattermapbox": [
           {
            "marker": {
             "colorbar": {
              "outlinewidth": 0,
              "ticks": ""
             }
            },
            "type": "scattermapbox"
           }
          ],
          "scatterpolar": [
           {
            "marker": {
             "colorbar": {
              "outlinewidth": 0,
              "ticks": ""
             }
            },
            "type": "scatterpolar"
           }
          ],
          "scatterpolargl": [
           {
            "marker": {
             "colorbar": {
              "outlinewidth": 0,
              "ticks": ""
             }
            },
            "type": "scatterpolargl"
           }
          ],
          "scatterternary": [
           {
            "marker": {
             "colorbar": {
              "outlinewidth": 0,
              "ticks": ""
             }
            },
            "type": "scatterternary"
           }
          ],
          "surface": [
           {
            "colorbar": {
             "outlinewidth": 0,
             "ticks": ""
            },
            "colorscale": [
             [
              0,
              "#0d0887"
             ],
             [
              0.1111111111111111,
              "#46039f"
             ],
             [
              0.2222222222222222,
              "#7201a8"
             ],
             [
              0.3333333333333333,
              "#9c179e"
             ],
             [
              0.4444444444444444,
              "#bd3786"
             ],
             [
              0.5555555555555556,
              "#d8576b"
             ],
             [
              0.6666666666666666,
              "#ed7953"
             ],
             [
              0.7777777777777778,
              "#fb9f3a"
             ],
             [
              0.8888888888888888,
              "#fdca26"
             ],
             [
              1,
              "#f0f921"
             ]
            ],
            "type": "surface"
           }
          ],
          "table": [
           {
            "cells": {
             "fill": {
              "color": "#EBF0F8"
             },
             "line": {
              "color": "white"
             }
            },
            "header": {
             "fill": {
              "color": "#C8D4E3"
             },
             "line": {
              "color": "white"
             }
            },
            "type": "table"
           }
          ]
         },
         "layout": {
          "annotationdefaults": {
           "arrowcolor": "#2a3f5f",
           "arrowhead": 0,
           "arrowwidth": 1
          },
          "autotypenumbers": "strict",
          "coloraxis": {
           "colorbar": {
            "outlinewidth": 0,
            "ticks": ""
           }
          },
          "colorscale": {
           "diverging": [
            [
             0,
             "#8e0152"
            ],
            [
             0.1,
             "#c51b7d"
            ],
            [
             0.2,
             "#de77ae"
            ],
            [
             0.3,
             "#f1b6da"
            ],
            [
             0.4,
             "#fde0ef"
            ],
            [
             0.5,
             "#f7f7f7"
            ],
            [
             0.6,
             "#e6f5d0"
            ],
            [
             0.7,
             "#b8e186"
            ],
            [
             0.8,
             "#7fbc41"
            ],
            [
             0.9,
             "#4d9221"
            ],
            [
             1,
             "#276419"
            ]
           ],
           "sequential": [
            [
             0,
             "#0d0887"
            ],
            [
             0.1111111111111111,
             "#46039f"
            ],
            [
             0.2222222222222222,
             "#7201a8"
            ],
            [
             0.3333333333333333,
             "#9c179e"
            ],
            [
             0.4444444444444444,
             "#bd3786"
            ],
            [
             0.5555555555555556,
             "#d8576b"
            ],
            [
             0.6666666666666666,
             "#ed7953"
            ],
            [
             0.7777777777777778,
             "#fb9f3a"
            ],
            [
             0.8888888888888888,
             "#fdca26"
            ],
            [
             1,
             "#f0f921"
            ]
           ],
           "sequentialminus": [
            [
             0,
             "#0d0887"
            ],
            [
             0.1111111111111111,
             "#46039f"
            ],
            [
             0.2222222222222222,
             "#7201a8"
            ],
            [
             0.3333333333333333,
             "#9c179e"
            ],
            [
             0.4444444444444444,
             "#bd3786"
            ],
            [
             0.5555555555555556,
             "#d8576b"
            ],
            [
             0.6666666666666666,
             "#ed7953"
            ],
            [
             0.7777777777777778,
             "#fb9f3a"
            ],
            [
             0.8888888888888888,
             "#fdca26"
            ],
            [
             1,
             "#f0f921"
            ]
           ]
          },
          "colorway": [
           "#636efa",
           "#EF553B",
           "#00cc96",
           "#ab63fa",
           "#FFA15A",
           "#19d3f3",
           "#FF6692",
           "#B6E880",
           "#FF97FF",
           "#FECB52"
          ],
          "font": {
           "color": "#2a3f5f"
          },
          "geo": {
           "bgcolor": "white",
           "lakecolor": "white",
           "landcolor": "#E5ECF6",
           "showlakes": true,
           "showland": true,
           "subunitcolor": "white"
          },
          "hoverlabel": {
           "align": "left"
          },
          "hovermode": "closest",
          "mapbox": {
           "style": "light"
          },
          "paper_bgcolor": "white",
          "plot_bgcolor": "#E5ECF6",
          "polar": {
           "angularaxis": {
            "gridcolor": "white",
            "linecolor": "white",
            "ticks": ""
           },
           "bgcolor": "#E5ECF6",
           "radialaxis": {
            "gridcolor": "white",
            "linecolor": "white",
            "ticks": ""
           }
          },
          "scene": {
           "xaxis": {
            "backgroundcolor": "#E5ECF6",
            "gridcolor": "white",
            "gridwidth": 2,
            "linecolor": "white",
            "showbackground": true,
            "ticks": "",
            "zerolinecolor": "white"
           },
           "yaxis": {
            "backgroundcolor": "#E5ECF6",
            "gridcolor": "white",
            "gridwidth": 2,
            "linecolor": "white",
            "showbackground": true,
            "ticks": "",
            "zerolinecolor": "white"
           },
           "zaxis": {
            "backgroundcolor": "#E5ECF6",
            "gridcolor": "white",
            "gridwidth": 2,
            "linecolor": "white",
            "showbackground": true,
            "ticks": "",
            "zerolinecolor": "white"
           }
          },
          "shapedefaults": {
           "line": {
            "color": "#2a3f5f"
           }
          },
          "ternary": {
           "aaxis": {
            "gridcolor": "white",
            "linecolor": "white",
            "ticks": ""
           },
           "baxis": {
            "gridcolor": "white",
            "linecolor": "white",
            "ticks": ""
           },
           "bgcolor": "#E5ECF6",
           "caxis": {
            "gridcolor": "white",
            "linecolor": "white",
            "ticks": ""
           }
          },
          "title": {
           "x": 0.05
          },
          "xaxis": {
           "automargin": true,
           "gridcolor": "white",
           "linecolor": "white",
           "ticks": "",
           "title": {
            "standoff": 15
           },
           "zerolinecolor": "white",
           "zerolinewidth": 2
          },
          "yaxis": {
           "automargin": true,
           "gridcolor": "white",
           "linecolor": "white",
           "ticks": "",
           "title": {
            "standoff": 15
           },
           "zerolinecolor": "white",
           "zerolinewidth": 2
          }
         }
        },
        "title": {
         "text": "Test Range Selector"
        },
        "xaxis": {
         "rangeselector": {
          "buttons": [
           {
            "count": 1,
            "label": "1m",
            "step": "month",
            "stepmode": "backward"
           },
           {
            "count": 6,
            "label": "6m",
            "step": "month",
            "stepmode": "backward"
           },
           {
            "count": 1,
            "label": "YTD",
            "step": "year",
            "stepmode": "todate"
           },
           {
            "count": 1,
            "label": "1y",
            "step": "year",
            "stepmode": "backward"
           },
           {
            "step": "all"
           }
          ]
         },
         "rangeslider": {
          "visible": true
         },
         "title": {
          "text": "Date"
         }
        },
        "yaxis": {
         "title": {
          "text": "Value"
         }
        }
       }
      }
     },
     "metadata": {},
     "output_type": "display_data"
    }
   ],
   "source": [
    "import plotly.graph_objects as go\n",
    "import pandas as pd\n",
    "import numpy as np\n",
    "\n",
    "# Exemple de données\n",
    "dates = pd.date_range(start='2022-01-01', periods=100, freq='D')\n",
    "values = np.random.randn(100)\n",
    "\n",
    "fig = go.Figure()\n",
    "fig.add_trace(go.Scatter(x=dates, y=values, mode='lines', name='Random Data'))\n",
    "\n",
    "fig.update_xaxes(\n",
    "    rangeslider=dict(visible=True),\n",
    "    rangeselector=dict(\n",
    "        buttons=list([\n",
    "            dict(count=1, label=\"1m\", step=\"month\", stepmode=\"backward\"),\n",
    "            dict(count=6, label=\"6m\", step=\"month\", stepmode=\"backward\"),\n",
    "            dict(count=1, label=\"YTD\", step=\"year\", stepmode=\"todate\"),\n",
    "            dict(count=1, label=\"1y\", step=\"year\", stepmode=\"backward\"),\n",
    "            dict(step=\"all\")\n",
    "        ])\n",
    "    )\n",
    ")\n",
    "\n",
    "fig.update_layout(\n",
    "    title='Test Range Selector',\n",
    "    xaxis_title='Date',\n",
    "    yaxis_title='Value',\n",
    ")\n",
    "\n",
    "fig.show()"
   ]
  },
  {
   "cell_type": "code",
   "execution_count": null,
   "id": "d6c346f9",
   "metadata": {
    "lines_to_next_cell": 2
   },
   "outputs": [],
   "source": []
  }
 ],
 "metadata": {
  "jupytext": {
   "formats": "ipynb,py"
  },
  "kernelspec": {
   "display_name": "financial_analysis",
   "language": "python",
   "name": "python3"
  },
  "language_info": {
   "codemirror_mode": {
    "name": "ipython",
    "version": 3
   },
   "file_extension": ".py",
   "mimetype": "text/x-python",
   "name": "python",
   "nbconvert_exporter": "python",
   "pygments_lexer": "ipython3",
   "version": "3.10.9"
  }
 },
 "nbformat": 4,
 "nbformat_minor": 5
}
