{
 "cells": [
  {
   "cell_type": "code",
   "execution_count": 1,
   "id": "682d812e",
   "metadata": {},
   "outputs": [],
   "source": [
    "import sys\n",
    "sys.path.append('..')  \n",
    "\n",
    "# Prend du temps\n",
    "import Models.SqlCom as sq\n",
    "# prends du temps\n",
    "import deepLearning.lstm as ls\n",
    "\n",
    "import Models.Shares as sm\n",
    "\n",
    "import time\n",
    "import Models.utils as ut\n",
    "\n",
    "# Fichier lstm.py\n",
    "import numpy as np\n",
    "import pandas as pd\n",
    "from sklearn.preprocessing import MinMaxScaler\n",
    "from sklearn.metrics import mean_squared_error\n",
    "from tensorflow.keras.models import Sequential\n",
    "from tensorflow.keras.layers import Dense, LSTM\n",
    "import Models.SqlCom as sq\n",
    "import Models.utils as ut\n",
    "import Models.Shares as sm\n",
    "import datetime\n",
    "import math\n",
    "import matplotlib.pyplot as plt"
   ]
  },
  {
   "cell_type": "code",
   "execution_count": 2,
   "id": "18d9d13c",
   "metadata": {},
   "outputs": [],
   "source": [
    "def create_dataset(dataset, look_back, nb_quots_by_day):\n",
    "    data_X, data_Y = [], []\n",
    "    for i in range(0,len(dataset) - 2*look_back, 1):\n",
    "       # if (i//nb_quots_by_day ==  (i+2*look_back)//nb_quots_by_day ): # Il faudrait éviter la fin de journée le probleme \n",
    "\n",
    "        a = dataset[i:(i + look_back), :]\n",
    "        data_X.append(a)\n",
    "        b = dataset[(i + 2*look_back), :]\n",
    "        data_Y.append(b)\n",
    "    return np.array(data_X), np.array(data_Y)"
   ]
  },
  {
   "cell_type": "code",
   "execution_count": 3,
   "id": "d4c1cdc3",
   "metadata": {},
   "outputs": [
    {
     "name": "stdout",
     "output_type": "stream",
     "text": [
      "Time: 0.6502199172973633s\n"
     ]
    },
    {
     "name": "stderr",
     "output_type": "stream",
     "text": [
      "I:\\drive\\Projects\\dash_deep\\Models\\SqlCom.py:181: UserWarning: pandas only supports SQLAlchemy connectable (engine/connection) or database string URI or sqlite3 DBAPI2 connection. Other DBAPI2 objects are not tested. Please consider using SQLAlchemy.\n",
      "  dataFrame = pd.read_sql(select_query, self.connection, columns=columns)\n"
     ]
    }
   ],
   "source": [
    "t=time.time()\n",
    "shM = sm.Shares(readOnlyThosetoUpdate=True)\n",
    "print(f\"Time: {time.time()-t}s\")\n"
   ]
  },
  {
   "cell_type": "code",
   "execution_count": 20,
   "id": "46714135",
   "metadata": {},
   "outputs": [
    {
     "data": {
      "text/html": [
       "<div>\n",
       "<style scoped>\n",
       "    .dataframe tbody tr th:only-of-type {\n",
       "        vertical-align: middle;\n",
       "    }\n",
       "\n",
       "    .dataframe tbody tr th {\n",
       "        vertical-align: top;\n",
       "    }\n",
       "\n",
       "    .dataframe thead th {\n",
       "        text-align: right;\n",
       "    }\n",
       "</style>\n",
       "<table border=\"1\" class=\"dataframe\">\n",
       "  <thead>\n",
       "    <tr style=\"text-align: right;\">\n",
       "      <th></th>\n",
       "      <th>openPrice</th>\n",
       "      <th>highPrice</th>\n",
       "      <th>lowPrice</th>\n",
       "      <th>closePrice</th>\n",
       "      <th>volume</th>\n",
       "      <th>dividend</th>\n",
       "      <th>idShare</th>\n",
       "    </tr>\n",
       "    <tr>\n",
       "      <th>time</th>\n",
       "      <th></th>\n",
       "      <th></th>\n",
       "      <th></th>\n",
       "      <th></th>\n",
       "      <th></th>\n",
       "      <th></th>\n",
       "      <th></th>\n",
       "    </tr>\n",
       "  </thead>\n",
       "  <tbody>\n",
       "    <tr>\n",
       "      <th>2020-10-07 09:00:00</th>\n",
       "      <td>6.450</td>\n",
       "      <td>6.460</td>\n",
       "      <td>6.450</td>\n",
       "      <td>6.460</td>\n",
       "      <td>0</td>\n",
       "      <td>0.000</td>\n",
       "      <td>45</td>\n",
       "    </tr>\n",
       "    <tr>\n",
       "      <th>2020-10-07 09:01:00</th>\n",
       "      <td>6.490</td>\n",
       "      <td>6.490</td>\n",
       "      <td>6.490</td>\n",
       "      <td>6.490</td>\n",
       "      <td>211</td>\n",
       "      <td>0.000</td>\n",
       "      <td>45</td>\n",
       "    </tr>\n",
       "    <tr>\n",
       "      <th>2020-10-07 09:02:00</th>\n",
       "      <td>6.450</td>\n",
       "      <td>6.450</td>\n",
       "      <td>6.450</td>\n",
       "      <td>6.450</td>\n",
       "      <td>625</td>\n",
       "      <td>0.000</td>\n",
       "      <td>45</td>\n",
       "    </tr>\n",
       "    <tr>\n",
       "      <th>2020-10-07 09:05:00</th>\n",
       "      <td>6.500</td>\n",
       "      <td>6.530</td>\n",
       "      <td>6.500</td>\n",
       "      <td>6.530</td>\n",
       "      <td>1955</td>\n",
       "      <td>0.000</td>\n",
       "      <td>45</td>\n",
       "    </tr>\n",
       "    <tr>\n",
       "      <th>2020-10-07 09:07:00</th>\n",
       "      <td>6.530</td>\n",
       "      <td>6.550</td>\n",
       "      <td>6.520</td>\n",
       "      <td>6.520</td>\n",
       "      <td>2828</td>\n",
       "      <td>0.000</td>\n",
       "      <td>45</td>\n",
       "    </tr>\n",
       "    <tr>\n",
       "      <th>...</th>\n",
       "      <td>...</td>\n",
       "      <td>...</td>\n",
       "      <td>...</td>\n",
       "      <td>...</td>\n",
       "      <td>...</td>\n",
       "      <td>...</td>\n",
       "      <td>...</td>\n",
       "    </tr>\n",
       "    <tr>\n",
       "      <th>2023-06-16 17:17:00</th>\n",
       "      <td>12.940</td>\n",
       "      <td>12.950</td>\n",
       "      <td>12.940</td>\n",
       "      <td>12.950</td>\n",
       "      <td>102</td>\n",
       "      <td>0.000</td>\n",
       "      <td>45</td>\n",
       "    </tr>\n",
       "    <tr>\n",
       "      <th>2023-06-16 17:20:00</th>\n",
       "      <td>12.930</td>\n",
       "      <td>12.930</td>\n",
       "      <td>12.920</td>\n",
       "      <td>12.920</td>\n",
       "      <td>666</td>\n",
       "      <td>0.000</td>\n",
       "      <td>45</td>\n",
       "    </tr>\n",
       "    <tr>\n",
       "      <th>2023-06-16 17:25:00</th>\n",
       "      <td>12.920</td>\n",
       "      <td>12.920</td>\n",
       "      <td>12.920</td>\n",
       "      <td>12.920</td>\n",
       "      <td>120</td>\n",
       "      <td>0.000</td>\n",
       "      <td>45</td>\n",
       "    </tr>\n",
       "    <tr>\n",
       "      <th>2023-06-16 17:28:00</th>\n",
       "      <td>12.920</td>\n",
       "      <td>12.920</td>\n",
       "      <td>12.920</td>\n",
       "      <td>12.920</td>\n",
       "      <td>330</td>\n",
       "      <td>0.000</td>\n",
       "      <td>45</td>\n",
       "    </tr>\n",
       "    <tr>\n",
       "      <th>2023-06-16 17:29:00</th>\n",
       "      <td>12.910</td>\n",
       "      <td>12.910</td>\n",
       "      <td>12.900</td>\n",
       "      <td>12.900</td>\n",
       "      <td>130</td>\n",
       "      <td>0.000</td>\n",
       "      <td>45</td>\n",
       "    </tr>\n",
       "  </tbody>\n",
       "</table>\n",
       "<p>131071 rows × 7 columns</p>\n",
       "</div>"
      ],
      "text/plain": [
       "                    openPrice highPrice lowPrice closePrice volume dividend  \\\n",
       "time                                                                          \n",
       "2020-10-07 09:00:00     6.450     6.460    6.450      6.460      0    0.000   \n",
       "2020-10-07 09:01:00     6.490     6.490    6.490      6.490    211    0.000   \n",
       "2020-10-07 09:02:00     6.450     6.450    6.450      6.450    625    0.000   \n",
       "2020-10-07 09:05:00     6.500     6.530    6.500      6.530   1955    0.000   \n",
       "2020-10-07 09:07:00     6.530     6.550    6.520      6.520   2828    0.000   \n",
       "...                       ...       ...      ...        ...    ...      ...   \n",
       "2023-06-16 17:17:00    12.940    12.950   12.940     12.950    102    0.000   \n",
       "2023-06-16 17:20:00    12.930    12.930   12.920     12.920    666    0.000   \n",
       "2023-06-16 17:25:00    12.920    12.920   12.920     12.920    120    0.000   \n",
       "2023-06-16 17:28:00    12.920    12.920   12.920     12.920    330    0.000   \n",
       "2023-06-16 17:29:00    12.910    12.910   12.900     12.900    130    0.000   \n",
       "\n",
       "                     idShare  \n",
       "time                          \n",
       "2020-10-07 09:00:00       45  \n",
       "2020-10-07 09:01:00       45  \n",
       "2020-10-07 09:02:00       45  \n",
       "2020-10-07 09:05:00       45  \n",
       "2020-10-07 09:07:00       45  \n",
       "...                      ...  \n",
       "2023-06-16 17:17:00       45  \n",
       "2023-06-16 17:20:00       45  \n",
       "2023-06-16 17:25:00       45  \n",
       "2023-06-16 17:28:00       45  \n",
       "2023-06-16 17:29:00       45  \n",
       "\n",
       "[131071 rows x 7 columns]"
      ]
     },
     "execution_count": 20,
     "metadata": {},
     "output_type": "execute_result"
    }
   ],
   "source": [
    "curShare = shM.dfShares[shM.dfShares.symbol.str.endswith(\".PA\")].iloc[2] #shM.dfShares.iloc[0]\n",
    "data_quots = shM.get_cotations_data_df(curShare, curShare.firstRecord, curShare.lastRecord)\n",
    "shareObj = curShare\n",
    "df = ut.prepareData(shareObj, data_quots) #column=\"openPrice\"\n",
    "data_quots\n"
   ]
  },
  {
   "cell_type": "code",
   "execution_count": 6,
   "id": "6310f314",
   "metadata": {
    "scrolled": true
   },
   "outputs": [
    {
     "name": "stdout",
     "output_type": "stream",
     "text": [
      "120037 13294 34\n"
     ]
    }
   ],
   "source": [
    "np.random.seed(42)\n",
    "\n",
    "\n",
    "# Normalize the dataset\n",
    "scaler = MinMaxScaler(feature_range=(0, 1))\n",
    "dataset = scaler.fit_transform(df) \n",
    "\n",
    "# Split the dataset into training and testing sets\n",
    "nb_minute_until_open = shareObj.openRichMarketTime.hour * 60 + shareObj.openRichMarketTime.minute\n",
    "nb_minute_until_close = shareObj.closeRichMarketTime.hour * 60 + shareObj.closeRichMarketTime.minute\n",
    "nb_quots_by_day = (nb_minute_until_close - nb_minute_until_open) + 1 # +1 interval inclus\n",
    "nb_days_quots_total = len(dataset) // nb_quots_by_day\n",
    "nb_days_quots_train = nb_days_quots_total - 1\n",
    "# pour simplification apprentissage on ne prend que 1 dixieme des derniere cotations \n",
    "nb_days_quots_test = 1\n",
    "nb_days_quots_train = nb_days_quots_total//10\n",
    "\n",
    "nb_days_skipped = math.floor(9*nb_days_quots_total/10) -1\n",
    "skipped_size = nb_days_skipped * nb_quots_by_day\n",
    "\n",
    "train_size = nb_days_quots_train * nb_quots_by_day\n",
    "print(skipped_size, train_size, nb_days_quots_train)\n",
    "train, test = dataset[skipped_size:skipped_size+train_size, :], dataset[skipped_size+train_size:len(dataset), :]\n",
    "#\n",
    "#train_size = nb_days_quots_train * nb_quots_by_day\n",
    "#train, test = dataset[0:train_size, :], dataset[train_size:len(dataset), :]\n",
    "\n",
    "look_back = 60"
   ]
  },
  {
   "cell_type": "code",
   "execution_count": 7,
   "id": "fd01f8b6",
   "metadata": {},
   "outputs": [],
   "source": [
    "trainX, trainY = create_dataset(train, look_back, nb_quots_by_day)\n",
    "testX, testY = create_dataset(test, look_back, nb_quots_by_day)"
   ]
  },
  {
   "cell_type": "code",
   "execution_count": 8,
   "id": "16e909f1",
   "metadata": {},
   "outputs": [
    {
     "name": "stdout",
     "output_type": "stream",
     "text": [
      "(13174, 60, 1)\n",
      "(13174, 60, 1)\n"
     ]
    }
   ],
   "source": [
    "print(trainX.shape)\n",
    "print(trainY.shape)"
   ]
  },
  {
   "cell_type": "code",
   "execution_count": 9,
   "id": "7a0447b6",
   "metadata": {},
   "outputs": [],
   "source": [
    "# Reshape input to be [samples, time steps, features]\n",
    "trainX = np.reshape(trainX, (trainX.shape[0], trainX.shape[1], -1))\n",
    "testX = np.reshape(testX, (testX.shape[0], testX.shape[1], -1))"
   ]
  },
  {
   "cell_type": "code",
   "execution_count": 10,
   "id": "4b721775",
   "metadata": {},
   "outputs": [],
   "source": [
    "# Create lists to store the error values\n",
    "train_scores = []\n",
    "test_scores = []\n",
    "figures = []  # Liste pour stocker les figures"
   ]
  },
  {
   "cell_type": "code",
   "execution_count": 11,
   "id": "2e4e71f4",
   "metadata": {},
   "outputs": [],
   "source": [
    " # Create and fit the LSTM model\n",
    "model = Sequential()\n",
    "model.add(LSTM(look_back, input_shape=(look_back, 1), return_sequences=True))\n",
    "model.add(Dense(look_back))\n",
    "model.add(LSTM(look_back))\n",
    "model.add(Dense(look_back))\n",
    "model.compile(loss='mean_squared_error', optimizer='adam')"
   ]
  },
  {
   "cell_type": "code",
   "execution_count": 12,
   "id": "ece16907",
   "metadata": {},
   "outputs": [],
   "source": [
    "# Loop over epochs and track the error values\n",
    "trainYInv = scaler.inverse_transform(trainY.reshape(trainY.shape[0], -1))\n",
    "testYInv = scaler.inverse_transform(testY.reshape(testY.shape[0], -1))"
   ]
  },
  {
   "cell_type": "code",
   "execution_count": 13,
   "id": "38659692",
   "metadata": {},
   "outputs": [
    {
     "name": "stdout",
     "output_type": "stream",
     "text": [
      "(13174, 60)\n",
      "(13174, 60, 1)\n"
     ]
    }
   ],
   "source": [
    "print(trainYInv.shape)\n",
    "print(trainY.shape)"
   ]
  },
  {
   "cell_type": "code",
   "execution_count": 14,
   "id": "200ded1d",
   "metadata": {},
   "outputs": [
    {
     "name": "stdout",
     "output_type": "stream",
     "text": [
      "34/34 - 7s - loss: 0.0492 - 7s/epoch - 219ms/step\n",
      "412/412 [==============================] - 7s 15ms/step\n",
      "Epoch 1: Train Score = 0.49 RMSE\n",
      "34/34 - 3s - loss: 0.0012 - 3s/epoch - 95ms/step\n",
      "412/412 [==============================] - 6s 14ms/step\n",
      "Epoch 2: Train Score = 0.16 RMSE\n",
      "34/34 - 3s - loss: 2.3511e-04 - 3s/epoch - 95ms/step\n",
      "412/412 [==============================] - 6s 14ms/step\n",
      "Epoch 3: Train Score = 0.13 RMSE\n",
      "34/34 - 3s - loss: 1.9263e-04 - 3s/epoch - 94ms/step\n",
      "412/412 [==============================] - 6s 15ms/step\n",
      "Epoch 4: Train Score = 0.12 RMSE\n"
     ]
    }
   ],
   "source": [
    "epochs = 4\n",
    "for epoch in range(epochs):\n",
    "    model.fit(trainX, trainY, epochs=1, batch_size=nb_quots_by_day, verbose=2)\n",
    "\n",
    "    # Make predictions\n",
    "    trainPredict = model.predict(trainX)\n",
    "    #testPredict = model.predict(testX)\n",
    "\n",
    "    # Invert predictions\n",
    "    trainPredict = scaler.inverse_transform(trainPredict)\n",
    "    #testPredict = scaler.inverse_transform(testPredict)\n",
    "\n",
    "    # Calculate root mean squared error\n",
    "    trainScore = np.sqrt(mean_squared_error(trainYInv, trainPredict))\n",
    "    #testScore = np.sqrt(mean_squared_error(testYInv, testPredict))\n",
    "\n",
    "    # Store the error values\n",
    "    train_scores.append(trainScore)\n",
    "    #test_scores.append(testScore)\n",
    "\n",
    "    print(f'Epoch {epoch+1}: Train Score = {trainScore:.2f} RMSE')\n"
   ]
  },
  {
   "cell_type": "code",
   "execution_count": 15,
   "id": "0c597216",
   "metadata": {},
   "outputs": [
    {
     "name": "stdout",
     "output_type": "stream",
     "text": [
      "1/1 [==============================] - 0s 29ms/step\n",
      "1/1 [==============================] - 0s 41ms/step\n",
      "1/1 [==============================] - 0s 20ms/step\n",
      "1/1 [==============================] - 0s 26ms/step\n",
      "1/1 [==============================] - 0s 15ms/step\n"
     ]
    }
   ],
   "source": [
    "testPredict = testX[0] # [nb_quots_day,loop_back,1]\n",
    "for i in range(0,nb_quots_by_day - 2*look_back, look_back): #for i in range(0,nb_quots_by_day - 2*look_back, ):\n",
    "    testInstance = np.expand_dims(testPredict[i:i+look_back], axis=0)  # L'entrée doit être de dimension [samples, time steps, features]\n",
    "    predictInstance = model.predict(testInstance)\n",
    "    predictInstance = np.reshape(predictInstance[0], (look_back, 1)) # predictInstance = np.reshape(predictInstance[0], (1, 1))\n",
    "    testPredict = np.concatenate((testPredict, predictInstance), axis=0) #np.append(testPredict, predictInstance, axis=0)"
   ]
  },
  {
   "cell_type": "code",
   "execution_count": 16,
   "id": "740a668d",
   "metadata": {},
   "outputs": [
    {
     "data": {
      "text/plain": [
       "(662, 1)"
      ]
     },
     "execution_count": 16,
     "metadata": {},
     "output_type": "execute_result"
    }
   ],
   "source": [
    "testX_reshaped = testX[:, 0, 0]\n",
    "testX_reshaped = np.reshape(testX_reshaped, (testX_reshaped.shape[0], -1))\n",
    "testX_reshaped.shape"
   ]
  },
  {
   "cell_type": "code",
   "execution_count": 17,
   "id": "1761b2d7",
   "metadata": {},
   "outputs": [],
   "source": [
    "testPredict = scaler.inverse_transform(testPredict)  # Inverser la normalisation\n",
    "testX_reshaped = scaler.inverse_transform(testX_reshaped)  # Inverser la normalisation"
   ]
  },
  {
   "cell_type": "code",
   "execution_count": 18,
   "id": "bde9f6b0",
   "metadata": {},
   "outputs": [
    {
     "data": {
      "text/plain": [
       "<matplotlib.legend.Legend at 0x1834e121ff0>"
      ]
     },
     "execution_count": 18,
     "metadata": {},
     "output_type": "execute_result"
    },
    {
     "data": {
      "image/png": "[encoded data removed]",
      "text/plain": [
       "<Figure size 1000x600 with 1 Axes>"
      ]
     },
     "metadata": {},
     "output_type": "display_data"
    }
   ],
   "source": [
    "plt.figure(figsize=(10, 6)) \n",
    "plt.plot(testX_reshaped, label='Actual')\n",
    "plt.plot(testPredict, label='Predicted')\n",
    "plt.xlabel('Time')\n",
    "plt.ylabel('Value')\n",
    "plt.legend()"
   ]
  },
  {
   "cell_type": "code",
   "execution_count": null,
   "id": "e8c60912",
   "metadata": {},
   "outputs": [],
   "source": []
  }
 ],
 "metadata": {
  "kernelspec": {
   "display_name": "financial_analysis",
   "language": "python",
   "name": "financial_analysis"
  },
  "language_info": {
   "codemirror_mode": {
    "name": "ipython",
    "version": 3
   },
   "file_extension": ".py",
   "mimetype": "text/x-python",
   "name": "python",
   "nbconvert_exporter": "python",
   "pygments_lexer": "ipython3",
   "version": "3.10.9"
  }
 },
 "nbformat": 4,
 "nbformat_minor": 5
}
